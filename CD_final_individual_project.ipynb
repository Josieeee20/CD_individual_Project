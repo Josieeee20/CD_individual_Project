{
 "cells": [
  {
   "cell_type": "markdown",
   "id": "92dca078",
   "metadata": {},
   "source": [
    "# The intruduction of the project"
   ]
  },
  {
   "cell_type": "markdown",
   "id": "a16e2a47",
   "metadata": {},
   "source": [
    "This project primarily investigates the (https://www.fmprc.gov.cn/mfa_eng/) Chinese Ministry of Foreign Affairs' public statements in December, examining the responses from China to relevant affairs of which countries or regions during the month, along with the expressed opinions and attitudes."
   ]
  },
  {
   "cell_type": "markdown",
   "id": "5314a9df",
   "metadata": {},
   "source": [
    "#  Webscrapping"
   ]
  },
  {
   "cell_type": "markdown",
   "id": "1e9a9ea1",
   "metadata": {},
   "source": [
    "## The introduction of the libraries\n",
    "- requests:\n",
    "Used for making HTTP requests to fetch data from web servers.\n",
    "BeautifulSoup:\n",
    "A library for parsing HTML and XML documents, commonly used in web scraping.\n",
    "- csv:\n",
    "A built-in module for reading and writing CSV files, simplifying handling tabular data.\n",
    "urllib.parse:\n",
    "Provides functions for parsing and manipulating URLs.\n",
    "- re:\n",
    "The regular expressions module for powerful string pattern matching and manipulation.\n",
    "- os:\n",
    "Interacts with the operating system, often used for file and directory manipulation.\n",
    "unicodedata:\n",
    "Provides access to the Unicode Character Database, useful for working with Unicode characters and strings."
   ]
  },
  {
   "cell_type": "code",
   "execution_count": 2,
   "id": "96e69170",
   "metadata": {},
   "outputs": [],
   "source": [
    "import requests\n",
    "from bs4 import BeautifulSoup\n",
    "import csv\n",
    "import urllib.parse\n",
    "import re\n",
    "import os\n",
    "import unicodedata"
   ]
  },
  {
   "cell_type": "markdown",
   "id": "2af06383",
   "metadata": {},
   "source": [
    "Firstly we collect the data from the website(https://www.fmprc.gov.cn/eng/xwfw_665399/s2510_665401/2511_665403/)and save it in a CSV file. "
   ]
  },
  {
   "cell_type": "code",
   "execution_count": 3,
   "id": "84a319f3",
   "metadata": {},
   "outputs": [],
   "source": [
    "def scrape_and_save_news(url, output_file):\n",
    "    response = requests.get(url)\n",
    "    soup = BeautifulSoup(response.text, \"html.parser\")\n",
    "\n",
    "    news_list = soup.find(\"div\", class_=\"newsLst_mod\").find_all(\"li\")\n",
    "\n",
    "    data = []\n",
    "\n",
    "    base_url = \"https://www.fmprc.gov.cn/eng/xwfw_665399/s2510_665401/2511_665403/\"\n",
    "\n",
    "    for news_item in news_list:\n",
    "        title = news_item.find(\"a\").text.strip()\n",
    "        news_url_relative = news_item.find(\"a\")['href']\n",
    "\n",
    "        # Splice the relative path and the base URL to get the complete news link\n",
    "        news_url = urllib.parse.urljoin(base_url, news_url_relative)\n",
    "\n",
    "        # Get the content of the news content page\n",
    "        content_response = requests.get(news_url)\n",
    "        content_soup = BeautifulSoup(content_response.text, \"html.parser\")\n",
    "\n",
    "        # Get news content\n",
    "        content_paragraphs = content_soup.find(\"div\", class_=\"content\").find_all(\"p\")  \n",
    "        content_text = \" \".join([p.text.strip() for p in content_paragraphs])\n",
    "\n",
    "        # Add title and content to data list\n",
    "        data.append({\"Title\": title, \"Content\": content_text})\n",
    "\n",
    "    # Write data to CSV file\n",
    "    with open(output_file, 'w', newline='', encoding='utf-8') as csv_file:\n",
    "        fieldnames = [\"Title\", \"Content\"]\n",
    "        writer = csv.DictWriter(csv_file, fieldnames=fieldnames)\n",
    "        writer.writeheader()\n",
    "        writer.writerows(data)\n",
    "\n",
    "# Replace with actual URL and output filename\n",
    "url_to_scrape = \"https://www.fmprc.gov.cn/eng/xwfw_665399/s2510_665401/2511_665403/index.html\"\n",
    "output_csv_file = \"news_data.csv\"\n",
    "\n",
    "scrape_and_save_news(url_to_scrape, output_csv_file)\n"
   ]
  },
  {
   "cell_type": "markdown",
   "id": "86f50d20",
   "metadata": {},
   "source": [
    "Due to the large amount of saved data, we only selected content with the title \"December.\""
   ]
  },
  {
   "cell_type": "code",
   "execution_count": 4,
   "id": "a726d19a",
   "metadata": {},
   "outputs": [],
   "source": [
    "def scrape_and_save_december_news(url, output_file):\n",
    "    response = requests.get(url)\n",
    "    soup = BeautifulSoup(response.text, \"html.parser\")\n",
    "\n",
    "    news_list = soup.find(\"div\", class_=\"newsLst_mod\").find_all(\"li\")\n",
    "\n",
    "    data = []\n",
    "\n",
    "    base_url = \"https://www.fmprc.gov.cn/eng/xwfw_665399/s2510_665401/2511_665403/\"\n",
    "\n",
    "    for news_item in news_list:\n",
    "        title = news_item.find(\"a\").text.strip()\n",
    "        \n",
    "        if \"December\" in title:\n",
    "            news_url_relative = news_item.find(\"a\")['href']\n",
    "            \n",
    "            # Splice the relative path and the base URL to get the complete news link\n",
    "            news_url = urllib.parse.urljoin(base_url, news_url_relative)\n",
    "\n",
    "            # Get the content of the news content page\n",
    "            content_response = requests.get(news_url)\n",
    "            content_soup = BeautifulSoup(content_response.text, \"html.parser\")\n",
    "            content_paragraphs = content_soup.find(\"div\", class_=\"content\").find_all(\"p\") \n",
    "            content_text = \" \".join([p.text.strip() for p in content_paragraphs])\n",
    "\n",
    "            # Add title and content to data list\n",
    "            data.append({\"Title\": title, \"Content\": content_text})\n",
    "\n",
    "    with open(output_file, 'w', newline='', encoding='utf-8') as csv_file:\n",
    "        fieldnames = [\"Title\", \"Content\"]\n",
    "        writer = csv.DictWriter(csv_file, fieldnames=fieldnames)\n",
    "        writer.writeheader()\n",
    "        writer.writerows(data)\n",
    "\n",
    "url_to_scrape = \"https://www.fmprc.gov.cn/eng/xwfw_665399/s2510_665401/2511_665403/index.html\"\n",
    "output_csv_file = \"december_news_data.csv\"\n",
    "\n",
    "scrape_and_save_december_news(url_to_scrape, output_csv_file)\n"
   ]
  },
  {
   "cell_type": "markdown",
   "id": "ec802c64",
   "metadata": {},
   "source": [
    "# Data cleaning"
   ]
  },
  {
   "cell_type": "markdown",
   "id": "1c70a303",
   "metadata": {},
   "source": [
    "Clean up the text, retaining only normal punctuation and textual content."
   ]
  },
  {
   "cell_type": "code",
   "execution_count": 5,
   "id": "b9c78ec0",
   "metadata": {},
   "outputs": [],
   "source": [
    "def clean_text(text):\n",
    "    cleaned_text = re.sub(r'[^a-zA-Z.,!? ]', '', text)\n",
    "    return cleaned_text\n",
    "\n",
    "def clean_and_save_to_csv(input_csv_file, output_csv_file):\n",
    "    data = []\n",
    "\n",
    "    with open(input_csv_file, 'r', encoding='utf-8') as csv_file:\n",
    "        reader = csv.DictReader(csv_file)\n",
    "        for row in reader:\n",
    "            title = row[\"Title\"]\n",
    "            content = row[\"Content\"]\n",
    "\n",
    "            cleaned_content_text = clean_text(content)\n",
    "\n",
    "            data.append({\"Title\": title, \"Content\": cleaned_content_text})\n",
    "\n",
    "    with open(output_csv_file, 'w', newline='', encoding='utf-8') as csv_file:\n",
    "        fieldnames = [\"Title\", \"Content\"]\n",
    "        writer = csv.DictWriter(csv_file, fieldnames=fieldnames)\n",
    "        writer.writeheader()\n",
    "        writer.writerows(data)\n",
    "\n",
    "input_csv_file = \"december_news_data.csv\"\n",
    "output_csv_file = \"cleaned_data.csv\"\n",
    "\n",
    "clean_and_save_to_csv(input_csv_file, output_csv_file)\n"
   ]
  },
  {
   "cell_type": "markdown",
   "id": "3823e847",
   "metadata": {},
   "source": [
    "Split the text content into multiple TXT files and rename them in the format of \"txt_01.\""
   ]
  },
  {
   "cell_type": "code",
   "execution_count": 6,
   "id": "173eaaca",
   "metadata": {},
   "outputs": [],
   "source": [
    "\n",
    "\n",
    "def save_to_txt(title, content, output_folder, file_count):\n",
    "\n",
    "    if not os.path.exists(output_folder):\n",
    "        os.makedirs(output_folder)\n",
    "\n",
    "    filename = f\"txt_{file_count:02d}.txt\"\n",
    "\n",
    "    with open(os.path.join(output_folder, filename), 'w', encoding='utf-8') as txt_file:\n",
    "        txt_file.write(f\"Title: {title}\\n\\n\")\n",
    "        txt_file.write(f\"Content:\\n{content}\")\n",
    "\n",
    "def split_csv_to_txt(input_csv_file, output_folder):\n",
    "    with open(input_csv_file, 'r', encoding='utf-8') as csv_file:\n",
    "        reader = csv.DictReader(csv_file)\n",
    "        for idx, row in enumerate(reader, start=1):\n",
    "            title = row[\"Title\"]\n",
    "            content = row[\"Content\"]\n",
    "\n",
    "            cleaned_content_text = clean_text(content)\n",
    "\n",
    "            save_to_txt(title, cleaned_content_text, output_folder, idx)\n",
    "\n",
    "input_csv_file = \"cleaned_data.csv\"\n",
    "output_folder = \"output_txt_files\"\n",
    "\n",
    "split_csv_to_txt(input_csv_file, output_folder)\n"
   ]
  },
  {
   "cell_type": "markdown",
   "id": "52264088",
   "metadata": {},
   "source": [
    "# Install Spacy"
   ]
  },
  {
   "cell_type": "markdown",
   "id": "a739c55d",
   "metadata": {},
   "source": [
    "- Install and Import Libraries: The code installs spaCy and Plotly libraries using %pip install and imports necessary packages.\n",
    "\n",
    "- Install English Language Model: It downloads and installs the English language model for spaCy using !python -m spacy download en_core_web_sm.\n",
    "\n",
    "- Load spaCy Model: It loads the English language model into spaCy using nlp = spacy.load(\"en_core_web_sm\").\n",
    "\n",
    "- Import spaCy Visualizer: The code imports the spaCy visualizer displacy for later use in visualizing text annotations.\n",
    "\n",
    "- Import Other Libraries: It imports additional libraries such as os for file handling, pandas for data manipulation, and Plotly for graphing.\n"
   ]
  },
  {
   "cell_type": "code",
   "execution_count": 7,
   "id": "6e8f6149",
   "metadata": {},
   "outputs": [
    {
     "name": "stdout",
     "output_type": "stream",
     "text": [
      "Requirement already satisfied: spaCy in /Users/josiechen/anaconda3/lib/python3.11/site-packages (3.7.2)\n",
      "Requirement already satisfied: spacy-legacy<3.1.0,>=3.0.11 in /Users/josiechen/anaconda3/lib/python3.11/site-packages (from spaCy) (3.0.12)\n",
      "Requirement already satisfied: spacy-loggers<2.0.0,>=1.0.0 in /Users/josiechen/anaconda3/lib/python3.11/site-packages (from spaCy) (1.0.5)\n",
      "Requirement already satisfied: murmurhash<1.1.0,>=0.28.0 in /Users/josiechen/anaconda3/lib/python3.11/site-packages (from spaCy) (1.0.10)\n",
      "Requirement already satisfied: cymem<2.1.0,>=2.0.2 in /Users/josiechen/anaconda3/lib/python3.11/site-packages (from spaCy) (2.0.8)\n",
      "Requirement already satisfied: preshed<3.1.0,>=3.0.2 in /Users/josiechen/anaconda3/lib/python3.11/site-packages (from spaCy) (3.0.9)\n",
      "Requirement already satisfied: thinc<8.3.0,>=8.1.8 in /Users/josiechen/anaconda3/lib/python3.11/site-packages (from spaCy) (8.2.1)\n",
      "Requirement already satisfied: wasabi<1.2.0,>=0.9.1 in /Users/josiechen/anaconda3/lib/python3.11/site-packages (from spaCy) (1.1.2)\n",
      "Requirement already satisfied: srsly<3.0.0,>=2.4.3 in /Users/josiechen/anaconda3/lib/python3.11/site-packages (from spaCy) (2.4.8)\n",
      "Requirement already satisfied: catalogue<2.1.0,>=2.0.6 in /Users/josiechen/anaconda3/lib/python3.11/site-packages (from spaCy) (2.0.10)\n",
      "Requirement already satisfied: weasel<0.4.0,>=0.1.0 in /Users/josiechen/anaconda3/lib/python3.11/site-packages (from spaCy) (0.3.4)\n",
      "Requirement already satisfied: typer<0.10.0,>=0.3.0 in /Users/josiechen/anaconda3/lib/python3.11/site-packages (from spaCy) (0.9.0)\n",
      "Requirement already satisfied: smart-open<7.0.0,>=5.2.1 in /Users/josiechen/anaconda3/lib/python3.11/site-packages (from spaCy) (5.2.1)\n",
      "Requirement already satisfied: tqdm<5.0.0,>=4.38.0 in /Users/josiechen/anaconda3/lib/python3.11/site-packages (from spaCy) (4.65.0)\n",
      "Requirement already satisfied: requests<3.0.0,>=2.13.0 in /Users/josiechen/anaconda3/lib/python3.11/site-packages (from spaCy) (2.31.0)\n",
      "Requirement already satisfied: pydantic!=1.8,!=1.8.1,<3.0.0,>=1.7.4 in /Users/josiechen/anaconda3/lib/python3.11/site-packages (from spaCy) (2.5.2)\n",
      "Requirement already satisfied: jinja2 in /Users/josiechen/anaconda3/lib/python3.11/site-packages (from spaCy) (3.1.2)\n",
      "Requirement already satisfied: setuptools in /Users/josiechen/anaconda3/lib/python3.11/site-packages (from spaCy) (68.0.0)\n",
      "Requirement already satisfied: packaging>=20.0 in /Users/josiechen/anaconda3/lib/python3.11/site-packages (from spaCy) (23.0)\n",
      "Requirement already satisfied: langcodes<4.0.0,>=3.2.0 in /Users/josiechen/anaconda3/lib/python3.11/site-packages (from spaCy) (3.3.0)\n",
      "Requirement already satisfied: numpy>=1.19.0 in /Users/josiechen/anaconda3/lib/python3.11/site-packages (from spaCy) (1.24.3)\n",
      "Requirement already satisfied: annotated-types>=0.4.0 in /Users/josiechen/anaconda3/lib/python3.11/site-packages (from pydantic!=1.8,!=1.8.1,<3.0.0,>=1.7.4->spaCy) (0.6.0)\n",
      "Requirement already satisfied: pydantic-core==2.14.5 in /Users/josiechen/anaconda3/lib/python3.11/site-packages (from pydantic!=1.8,!=1.8.1,<3.0.0,>=1.7.4->spaCy) (2.14.5)\n",
      "Requirement already satisfied: typing-extensions>=4.6.1 in /Users/josiechen/anaconda3/lib/python3.11/site-packages (from pydantic!=1.8,!=1.8.1,<3.0.0,>=1.7.4->spaCy) (4.7.1)\n",
      "Requirement already satisfied: charset-normalizer<4,>=2 in /Users/josiechen/anaconda3/lib/python3.11/site-packages (from requests<3.0.0,>=2.13.0->spaCy) (2.0.4)\n",
      "Requirement already satisfied: idna<4,>=2.5 in /Users/josiechen/anaconda3/lib/python3.11/site-packages (from requests<3.0.0,>=2.13.0->spaCy) (3.4)\n",
      "Requirement already satisfied: urllib3<3,>=1.21.1 in /Users/josiechen/anaconda3/lib/python3.11/site-packages (from requests<3.0.0,>=2.13.0->spaCy) (1.26.16)\n",
      "Requirement already satisfied: certifi>=2017.4.17 in /Users/josiechen/anaconda3/lib/python3.11/site-packages (from requests<3.0.0,>=2.13.0->spaCy) (2023.7.22)\n",
      "Requirement already satisfied: blis<0.8.0,>=0.7.8 in /Users/josiechen/anaconda3/lib/python3.11/site-packages (from thinc<8.3.0,>=8.1.8->spaCy) (0.7.11)\n",
      "Requirement already satisfied: confection<1.0.0,>=0.0.1 in /Users/josiechen/anaconda3/lib/python3.11/site-packages (from thinc<8.3.0,>=8.1.8->spaCy) (0.1.4)\n",
      "Requirement already satisfied: click<9.0.0,>=7.1.1 in /Users/josiechen/anaconda3/lib/python3.11/site-packages (from typer<0.10.0,>=0.3.0->spaCy) (8.0.4)\n",
      "Requirement already satisfied: cloudpathlib<0.17.0,>=0.7.0 in /Users/josiechen/anaconda3/lib/python3.11/site-packages (from weasel<0.4.0,>=0.1.0->spaCy) (0.16.0)\n",
      "Requirement already satisfied: MarkupSafe>=2.0 in /Users/josiechen/anaconda3/lib/python3.11/site-packages (from jinja2->spaCy) (2.1.1)\n",
      "Note: you may need to restart the kernel to use updated packages.\n",
      "Requirement already satisfied: plotly in /Users/josiechen/anaconda3/lib/python3.11/site-packages (5.9.0)\n",
      "Requirement already satisfied: tenacity>=6.2.0 in /Users/josiechen/anaconda3/lib/python3.11/site-packages (from plotly) (8.2.2)\n",
      "Note: you may need to restart the kernel to use updated packages.\n",
      "Requirement already satisfied: nbformat in /Users/josiechen/anaconda3/lib/python3.11/site-packages (5.9.2)\n",
      "Requirement already satisfied: fastjsonschema in /Users/josiechen/anaconda3/lib/python3.11/site-packages (from nbformat) (2.16.2)\n",
      "Requirement already satisfied: jsonschema>=2.6 in /Users/josiechen/anaconda3/lib/python3.11/site-packages (from nbformat) (4.17.3)\n",
      "Requirement already satisfied: jupyter-core in /Users/josiechen/anaconda3/lib/python3.11/site-packages (from nbformat) (5.3.0)\n",
      "Requirement already satisfied: traitlets>=5.1 in /Users/josiechen/anaconda3/lib/python3.11/site-packages (from nbformat) (5.7.1)\n",
      "Requirement already satisfied: attrs>=17.4.0 in /Users/josiechen/anaconda3/lib/python3.11/site-packages (from jsonschema>=2.6->nbformat) (22.1.0)\n",
      "Requirement already satisfied: pyrsistent!=0.17.0,!=0.17.1,!=0.17.2,>=0.14.0 in /Users/josiechen/anaconda3/lib/python3.11/site-packages (from jsonschema>=2.6->nbformat) (0.18.0)\n",
      "Requirement already satisfied: platformdirs>=2.5 in /Users/josiechen/anaconda3/lib/python3.11/site-packages (from jupyter-core->nbformat) (2.5.2)\n",
      "Note: you may need to restart the kernel to use updated packages.\n"
     ]
    }
   ],
   "source": [
    "# Install and import spacy and plotly.\n",
    "%pip install spaCy\n",
    "%pip install plotly\n",
    "%pip install nbformat --upgrade"
   ]
  },
  {
   "cell_type": "code",
   "execution_count": 8,
   "id": "fdb3d6b2",
   "metadata": {},
   "outputs": [
    {
     "name": "stdout",
     "output_type": "stream",
     "text": [
      "Collecting en-core-web-sm==3.7.1\n",
      "  Downloading https://github.com/explosion/spacy-models/releases/download/en_core_web_sm-3.7.1/en_core_web_sm-3.7.1-py3-none-any.whl (12.8 MB)\n",
      "\u001b[2K     \u001b[90m━━━━━━━━━━━━━━━━━━━━━━━━━━━━━━━━━━━━━━━━\u001b[0m \u001b[32m12.8/12.8 MB\u001b[0m \u001b[31m33.7 MB/s\u001b[0m eta \u001b[36m0:00:00\u001b[0ma \u001b[36m0:00:01\u001b[0m\n",
      "\u001b[?25hRequirement already satisfied: spacy<3.8.0,>=3.7.2 in /Users/josiechen/anaconda3/lib/python3.11/site-packages (from en-core-web-sm==3.7.1) (3.7.2)\n",
      "Requirement already satisfied: spacy-legacy<3.1.0,>=3.0.11 in /Users/josiechen/anaconda3/lib/python3.11/site-packages (from spacy<3.8.0,>=3.7.2->en-core-web-sm==3.7.1) (3.0.12)\n",
      "Requirement already satisfied: spacy-loggers<2.0.0,>=1.0.0 in /Users/josiechen/anaconda3/lib/python3.11/site-packages (from spacy<3.8.0,>=3.7.2->en-core-web-sm==3.7.1) (1.0.5)\n",
      "Requirement already satisfied: murmurhash<1.1.0,>=0.28.0 in /Users/josiechen/anaconda3/lib/python3.11/site-packages (from spacy<3.8.0,>=3.7.2->en-core-web-sm==3.7.1) (1.0.10)\n",
      "Requirement already satisfied: cymem<2.1.0,>=2.0.2 in /Users/josiechen/anaconda3/lib/python3.11/site-packages (from spacy<3.8.0,>=3.7.2->en-core-web-sm==3.7.1) (2.0.8)\n",
      "Requirement already satisfied: preshed<3.1.0,>=3.0.2 in /Users/josiechen/anaconda3/lib/python3.11/site-packages (from spacy<3.8.0,>=3.7.2->en-core-web-sm==3.7.1) (3.0.9)\n",
      "Requirement already satisfied: thinc<8.3.0,>=8.1.8 in /Users/josiechen/anaconda3/lib/python3.11/site-packages (from spacy<3.8.0,>=3.7.2->en-core-web-sm==3.7.1) (8.2.1)\n",
      "Requirement already satisfied: wasabi<1.2.0,>=0.9.1 in /Users/josiechen/anaconda3/lib/python3.11/site-packages (from spacy<3.8.0,>=3.7.2->en-core-web-sm==3.7.1) (1.1.2)\n",
      "Requirement already satisfied: srsly<3.0.0,>=2.4.3 in /Users/josiechen/anaconda3/lib/python3.11/site-packages (from spacy<3.8.0,>=3.7.2->en-core-web-sm==3.7.1) (2.4.8)\n",
      "Requirement already satisfied: catalogue<2.1.0,>=2.0.6 in /Users/josiechen/anaconda3/lib/python3.11/site-packages (from spacy<3.8.0,>=3.7.2->en-core-web-sm==3.7.1) (2.0.10)\n",
      "Requirement already satisfied: weasel<0.4.0,>=0.1.0 in /Users/josiechen/anaconda3/lib/python3.11/site-packages (from spacy<3.8.0,>=3.7.2->en-core-web-sm==3.7.1) (0.3.4)\n",
      "Requirement already satisfied: typer<0.10.0,>=0.3.0 in /Users/josiechen/anaconda3/lib/python3.11/site-packages (from spacy<3.8.0,>=3.7.2->en-core-web-sm==3.7.1) (0.9.0)\n",
      "Requirement already satisfied: smart-open<7.0.0,>=5.2.1 in /Users/josiechen/anaconda3/lib/python3.11/site-packages (from spacy<3.8.0,>=3.7.2->en-core-web-sm==3.7.1) (5.2.1)\n",
      "Requirement already satisfied: tqdm<5.0.0,>=4.38.0 in /Users/josiechen/anaconda3/lib/python3.11/site-packages (from spacy<3.8.0,>=3.7.2->en-core-web-sm==3.7.1) (4.65.0)\n",
      "Requirement already satisfied: requests<3.0.0,>=2.13.0 in /Users/josiechen/anaconda3/lib/python3.11/site-packages (from spacy<3.8.0,>=3.7.2->en-core-web-sm==3.7.1) (2.31.0)\n",
      "Requirement already satisfied: pydantic!=1.8,!=1.8.1,<3.0.0,>=1.7.4 in /Users/josiechen/anaconda3/lib/python3.11/site-packages (from spacy<3.8.0,>=3.7.2->en-core-web-sm==3.7.1) (2.5.2)\n",
      "Requirement already satisfied: jinja2 in /Users/josiechen/anaconda3/lib/python3.11/site-packages (from spacy<3.8.0,>=3.7.2->en-core-web-sm==3.7.1) (3.1.2)\n",
      "Requirement already satisfied: setuptools in /Users/josiechen/anaconda3/lib/python3.11/site-packages (from spacy<3.8.0,>=3.7.2->en-core-web-sm==3.7.1) (68.0.0)\n",
      "Requirement already satisfied: packaging>=20.0 in /Users/josiechen/anaconda3/lib/python3.11/site-packages (from spacy<3.8.0,>=3.7.2->en-core-web-sm==3.7.1) (23.0)\n",
      "Requirement already satisfied: langcodes<4.0.0,>=3.2.0 in /Users/josiechen/anaconda3/lib/python3.11/site-packages (from spacy<3.8.0,>=3.7.2->en-core-web-sm==3.7.1) (3.3.0)\n",
      "Requirement already satisfied: numpy>=1.19.0 in /Users/josiechen/anaconda3/lib/python3.11/site-packages (from spacy<3.8.0,>=3.7.2->en-core-web-sm==3.7.1) (1.24.3)\n",
      "Requirement already satisfied: annotated-types>=0.4.0 in /Users/josiechen/anaconda3/lib/python3.11/site-packages (from pydantic!=1.8,!=1.8.1,<3.0.0,>=1.7.4->spacy<3.8.0,>=3.7.2->en-core-web-sm==3.7.1) (0.6.0)\n",
      "Requirement already satisfied: pydantic-core==2.14.5 in /Users/josiechen/anaconda3/lib/python3.11/site-packages (from pydantic!=1.8,!=1.8.1,<3.0.0,>=1.7.4->spacy<3.8.0,>=3.7.2->en-core-web-sm==3.7.1) (2.14.5)\n",
      "Requirement already satisfied: typing-extensions>=4.6.1 in /Users/josiechen/anaconda3/lib/python3.11/site-packages (from pydantic!=1.8,!=1.8.1,<3.0.0,>=1.7.4->spacy<3.8.0,>=3.7.2->en-core-web-sm==3.7.1) (4.7.1)\n",
      "Requirement already satisfied: charset-normalizer<4,>=2 in /Users/josiechen/anaconda3/lib/python3.11/site-packages (from requests<3.0.0,>=2.13.0->spacy<3.8.0,>=3.7.2->en-core-web-sm==3.7.1) (2.0.4)\n",
      "Requirement already satisfied: idna<4,>=2.5 in /Users/josiechen/anaconda3/lib/python3.11/site-packages (from requests<3.0.0,>=2.13.0->spacy<3.8.0,>=3.7.2->en-core-web-sm==3.7.1) (3.4)\n",
      "Requirement already satisfied: urllib3<3,>=1.21.1 in /Users/josiechen/anaconda3/lib/python3.11/site-packages (from requests<3.0.0,>=2.13.0->spacy<3.8.0,>=3.7.2->en-core-web-sm==3.7.1) (1.26.16)\n",
      "Requirement already satisfied: certifi>=2017.4.17 in /Users/josiechen/anaconda3/lib/python3.11/site-packages (from requests<3.0.0,>=2.13.0->spacy<3.8.0,>=3.7.2->en-core-web-sm==3.7.1) (2023.7.22)\n",
      "Requirement already satisfied: blis<0.8.0,>=0.7.8 in /Users/josiechen/anaconda3/lib/python3.11/site-packages (from thinc<8.3.0,>=8.1.8->spacy<3.8.0,>=3.7.2->en-core-web-sm==3.7.1) (0.7.11)\n",
      "Requirement already satisfied: confection<1.0.0,>=0.0.1 in /Users/josiechen/anaconda3/lib/python3.11/site-packages (from thinc<8.3.0,>=8.1.8->spacy<3.8.0,>=3.7.2->en-core-web-sm==3.7.1) (0.1.4)\n",
      "Requirement already satisfied: click<9.0.0,>=7.1.1 in /Users/josiechen/anaconda3/lib/python3.11/site-packages (from typer<0.10.0,>=0.3.0->spacy<3.8.0,>=3.7.2->en-core-web-sm==3.7.1) (8.0.4)\n",
      "Requirement already satisfied: cloudpathlib<0.17.0,>=0.7.0 in /Users/josiechen/anaconda3/lib/python3.11/site-packages (from weasel<0.4.0,>=0.1.0->spacy<3.8.0,>=3.7.2->en-core-web-sm==3.7.1) (0.16.0)\n",
      "Requirement already satisfied: MarkupSafe>=2.0 in /Users/josiechen/anaconda3/lib/python3.11/site-packages (from jinja2->spacy<3.8.0,>=3.7.2->en-core-web-sm==3.7.1) (2.1.1)\n",
      "\u001b[38;5;2m✔ Download and installation successful\u001b[0m\n",
      "You can now load the package via spacy.load('en_core_web_sm')\n"
     ]
    }
   ],
   "source": [
    "# Import spacy\n",
    "import spacy\n",
    "\n",
    "# Install English language model\n",
    "!python -m spacy download en_core_web_sm\n",
    "\n",
    "# Import os to upload documents and metadata\n",
    "import os\n",
    "\n",
    "# Load spaCy model\n",
    "nlp = spacy.load(\"en_core_web_sm\")\n",
    "\n",
    "# Load spaCy visualizer\n",
    "from spacy import displacy\n",
    "\n",
    "# Import pandas DataFrame packages\n",
    "import pandas as pd\n",
    "pd.options.mode.chained_assignment = None  # default='warn'\n",
    "\n",
    "# Import graphing package\n",
    "import plotly.graph_objects as go\n",
    "import plotly.express as px\n"
   ]
  },
  {
   "cell_type": "code",
   "execution_count": null,
   "id": "8d7d78ed",
   "metadata": {},
   "outputs": [],
   "source": []
  },
  {
   "cell_type": "code",
   "execution_count": 9,
   "id": "ed1c1ff9",
   "metadata": {},
   "outputs": [],
   "source": [
    "# Create empty lists for file names and contents\n",
    "texts = []\n",
    "file_names = []\n",
    "\n",
    "# Iterate through each file in the folder\n",
    "for _file_name in os.listdir('cleaned_txt_files'):\n",
    "# Look for only text files\n",
    "    if _file_name.endswith('.txt'):\n",
    "    # Append contents of each text file to text list\n",
    "        texts.append(open('cleaned_txt_files' + '/' + _file_name, 'r', encoding='utf-8').read())\n",
    "        # Append name of each file to file name list\n",
    "        file_names.append(_file_name)"
   ]
  },
  {
   "cell_type": "code",
   "execution_count": 10,
   "id": "756bed92",
   "metadata": {},
   "outputs": [],
   "source": [
    "# Create dictionary object associating each file name with its text\n",
    "d = {'Filename':file_names,'Text':texts}"
   ]
  },
  {
   "cell_type": "code",
   "execution_count": 11,
   "id": "0bf62adb",
   "metadata": {},
   "outputs": [],
   "source": [
    "# Turn dictionary into a dataframe\n",
    "News_df = pd.DataFrame(d)"
   ]
  },
  {
   "cell_type": "code",
   "execution_count": 13,
   "id": "cb8176d8",
   "metadata": {},
   "outputs": [
    {
     "data": {
      "text/html": [
       "<div>\n",
       "<style scoped>\n",
       "    .dataframe tbody tr th:only-of-type {\n",
       "        vertical-align: middle;\n",
       "    }\n",
       "\n",
       "    .dataframe tbody tr th {\n",
       "        vertical-align: top;\n",
       "    }\n",
       "\n",
       "    .dataframe thead th {\n",
       "        text-align: right;\n",
       "    }\n",
       "</style>\n",
       "<table border=\"1\" class=\"dataframe\">\n",
       "  <thead>\n",
       "    <tr style=\"text-align: right;\">\n",
       "      <th></th>\n",
       "      <th>Filename</th>\n",
       "      <th>Text</th>\n",
       "    </tr>\n",
       "  </thead>\n",
       "  <tbody>\n",
       "    <tr>\n",
       "      <th>0</th>\n",
       "      <td>txt_11.txt</td>\n",
       "      <td>We noted that General Secretary and President ...</td>\n",
       "    </tr>\n",
       "    <tr>\n",
       "      <th>1</th>\n",
       "      <td>txt_05.txt</td>\n",
       "      <td>CCTV This year marks the tenth anniversary of ...</td>\n",
       "    </tr>\n",
       "    <tr>\n",
       "      <th>2</th>\n",
       "      <td>txt_04.txt</td>\n",
       "      <td>China News Service Premier Li Qiang attended t...</td>\n",
       "    </tr>\n",
       "    <tr>\n",
       "      <th>3</th>\n",
       "      <td>txt_10.txt</td>\n",
       "      <td>At the invitation of Premier of the State Coun...</td>\n",
       "    </tr>\n",
       "    <tr>\n",
       "      <th>4</th>\n",
       "      <td>txt_06.txt</td>\n",
       "      <td>The fourth LancangMekong Cooperation LMC Leade...</td>\n",
       "    </tr>\n",
       "  </tbody>\n",
       "</table>\n",
       "</div>"
      ],
      "text/plain": [
       "     Filename                                               Text\n",
       "0  txt_11.txt  We noted that General Secretary and President ...\n",
       "1  txt_05.txt  CCTV This year marks the tenth anniversary of ...\n",
       "2  txt_04.txt  China News Service Premier Li Qiang attended t...\n",
       "3  txt_10.txt  At the invitation of Premier of the State Coun...\n",
       "4  txt_06.txt  The fourth LancangMekong Cooperation LMC Leade..."
      ]
     },
     "execution_count": 13,
     "metadata": {},
     "output_type": "execute_result"
    }
   ],
   "source": [
    "# Remove extra spaces from papers\n",
    "News_df['Text'] = News_df['Text'].str.replace('\\s+', ' ', regex=True).str.strip()\n",
    "News_df.head()"
   ]
  },
  {
   "cell_type": "code",
   "execution_count": 14,
   "id": "f2dc3a37",
   "metadata": {},
   "outputs": [
    {
     "data": {
      "text/html": [
       "<div>\n",
       "<style scoped>\n",
       "    .dataframe tbody tr th:only-of-type {\n",
       "        vertical-align: middle;\n",
       "    }\n",
       "\n",
       "    .dataframe tbody tr th {\n",
       "        vertical-align: top;\n",
       "    }\n",
       "\n",
       "    .dataframe thead th {\n",
       "        text-align: right;\n",
       "    }\n",
       "</style>\n",
       "<table border=\"1\" class=\"dataframe\">\n",
       "  <thead>\n",
       "    <tr style=\"text-align: right;\">\n",
       "      <th></th>\n",
       "      <th>Paper_ID</th>\n",
       "      <th>Title</th>\n",
       "      <th>Date</th>\n",
       "      <th>Spokesman</th>\n",
       "    </tr>\n",
       "  </thead>\n",
       "  <tbody>\n",
       "    <tr>\n",
       "      <th>0</th>\n",
       "      <td>txt_01</td>\n",
       "      <td>Foreign Ministry Spokesperson Mao Nings Regula...</td>\n",
       "      <td>29-Dec-23</td>\n",
       "      <td>Mao Ning</td>\n",
       "    </tr>\n",
       "    <tr>\n",
       "      <th>1</th>\n",
       "      <td>txt_02</td>\n",
       "      <td>Foreign Ministry Spokesperson Mao Nings Regula...</td>\n",
       "      <td>28-Dec-23</td>\n",
       "      <td>Mao Ning</td>\n",
       "    </tr>\n",
       "    <tr>\n",
       "      <th>2</th>\n",
       "      <td>txt_03</td>\n",
       "      <td>Foreign Ministry Spokesperson Mao Nings Regula...</td>\n",
       "      <td>27-Dec-23</td>\n",
       "      <td>Mao Ning</td>\n",
       "    </tr>\n",
       "    <tr>\n",
       "      <th>3</th>\n",
       "      <td>txt_04</td>\n",
       "      <td>Foreign Ministry Spokesperson Mao Nings Regula...</td>\n",
       "      <td>26-Dec-23</td>\n",
       "      <td>Mao Ning</td>\n",
       "    </tr>\n",
       "    <tr>\n",
       "      <th>4</th>\n",
       "      <td>txt_05</td>\n",
       "      <td>Foreign Ministry Spokesperson Mao Nings Regula...</td>\n",
       "      <td>25-Dec-23</td>\n",
       "      <td>Mao Ning</td>\n",
       "    </tr>\n",
       "  </tbody>\n",
       "</table>\n",
       "</div>"
      ],
      "text/plain": [
       "  Paper_ID                                              Title       Date  \\\n",
       "0   txt_01  Foreign Ministry Spokesperson Mao Nings Regula...  29-Dec-23   \n",
       "1   txt_02  Foreign Ministry Spokesperson Mao Nings Regula...  28-Dec-23   \n",
       "2   txt_03  Foreign Ministry Spokesperson Mao Nings Regula...  27-Dec-23   \n",
       "3   txt_04  Foreign Ministry Spokesperson Mao Nings Regula...  26-Dec-23   \n",
       "4   txt_05  Foreign Ministry Spokesperson Mao Nings Regula...  25-Dec-23   \n",
       "\n",
       "  Spokesman  \n",
       "0  Mao Ning  \n",
       "1  Mao Ning  \n",
       "2  Mao Ning  \n",
       "3  Mao Ning  \n",
       "4  Mao Ning  "
      ]
     },
     "execution_count": 14,
     "metadata": {},
     "output_type": "execute_result"
    }
   ],
   "source": [
    "# Load metadata.\n",
    "metadata_df = pd.read_csv('metafile.csv')\n",
    "metadata_df.head()"
   ]
  },
  {
   "cell_type": "code",
   "execution_count": 15,
   "id": "ab513811",
   "metadata": {},
   "outputs": [],
   "source": [
    "# Remove .txt from title of each paper\n",
    "News_df['Filename'] = News_df['Filename'].str.replace('.txt', '', regex=True)\n",
    "\n",
    "# Rename column from paper ID to Title\n",
    "metadata_df.rename(columns={\"Paper_ID\": \"Filename\"}, inplace=True)"
   ]
  },
  {
   "cell_type": "code",
   "execution_count": 16,
   "id": "3fe17e12",
   "metadata": {},
   "outputs": [],
   "source": [
    "# Merge metadata and papers into new DataFrame\n",
    "# Will only keep rows where both essay and metadata are present\n",
    "final_News_df = metadata_df.merge(News_df,on='Filename')"
   ]
  },
  {
   "cell_type": "code",
   "execution_count": 17,
   "id": "6ac6e295",
   "metadata": {},
   "outputs": [
    {
     "data": {
      "text/html": [
       "<div>\n",
       "<style scoped>\n",
       "    .dataframe tbody tr th:only-of-type {\n",
       "        vertical-align: middle;\n",
       "    }\n",
       "\n",
       "    .dataframe tbody tr th {\n",
       "        vertical-align: top;\n",
       "    }\n",
       "\n",
       "    .dataframe thead th {\n",
       "        text-align: right;\n",
       "    }\n",
       "</style>\n",
       "<table border=\"1\" class=\"dataframe\">\n",
       "  <thead>\n",
       "    <tr style=\"text-align: right;\">\n",
       "      <th></th>\n",
       "      <th>Filename</th>\n",
       "      <th>Title</th>\n",
       "      <th>Date</th>\n",
       "      <th>Spokesman</th>\n",
       "      <th>Text</th>\n",
       "    </tr>\n",
       "  </thead>\n",
       "  <tbody>\n",
       "    <tr>\n",
       "      <th>0</th>\n",
       "      <td>txt_01</td>\n",
       "      <td>Foreign Ministry Spokesperson Mao Nings Regula...</td>\n",
       "      <td>29-Dec-23</td>\n",
       "      <td>Mao Ning</td>\n",
       "      <td>CNR This year, President Xi Jinping visited As...</td>\n",
       "    </tr>\n",
       "    <tr>\n",
       "      <th>1</th>\n",
       "      <td>txt_02</td>\n",
       "      <td>Foreign Ministry Spokesperson Mao Nings Regula...</td>\n",
       "      <td>28-Dec-23</td>\n",
       "      <td>Mao Ning</td>\n",
       "      <td>AFP Chinas Embassy in Myanmar today reminded a...</td>\n",
       "    </tr>\n",
       "    <tr>\n",
       "      <th>2</th>\n",
       "      <td>txt_03</td>\n",
       "      <td>Foreign Ministry Spokesperson Mao Nings Regula...</td>\n",
       "      <td>27-Dec-23</td>\n",
       "      <td>Mao Ning</td>\n",
       "      <td>CCTV This year marks the th anniversary of the...</td>\n",
       "    </tr>\n",
       "    <tr>\n",
       "      <th>3</th>\n",
       "      <td>txt_04</td>\n",
       "      <td>Foreign Ministry Spokesperson Mao Nings Regula...</td>\n",
       "      <td>26-Dec-23</td>\n",
       "      <td>Mao Ning</td>\n",
       "      <td>China News Service Premier Li Qiang attended t...</td>\n",
       "    </tr>\n",
       "    <tr>\n",
       "      <th>4</th>\n",
       "      <td>txt_05</td>\n",
       "      <td>Foreign Ministry Spokesperson Mao Nings Regula...</td>\n",
       "      <td>25-Dec-23</td>\n",
       "      <td>Mao Ning</td>\n",
       "      <td>CCTV This year marks the tenth anniversary of ...</td>\n",
       "    </tr>\n",
       "  </tbody>\n",
       "</table>\n",
       "</div>"
      ],
      "text/plain": [
       "  Filename                                              Title       Date  \\\n",
       "0   txt_01  Foreign Ministry Spokesperson Mao Nings Regula...  29-Dec-23   \n",
       "1   txt_02  Foreign Ministry Spokesperson Mao Nings Regula...  28-Dec-23   \n",
       "2   txt_03  Foreign Ministry Spokesperson Mao Nings Regula...  27-Dec-23   \n",
       "3   txt_04  Foreign Ministry Spokesperson Mao Nings Regula...  26-Dec-23   \n",
       "4   txt_05  Foreign Ministry Spokesperson Mao Nings Regula...  25-Dec-23   \n",
       "\n",
       "  Spokesman                                               Text  \n",
       "0  Mao Ning  CNR This year, President Xi Jinping visited As...  \n",
       "1  Mao Ning  AFP Chinas Embassy in Myanmar today reminded a...  \n",
       "2  Mao Ning  CCTV This year marks the th anniversary of the...  \n",
       "3  Mao Ning  China News Service Premier Li Qiang attended t...  \n",
       "4  Mao Ning  CCTV This year marks the tenth anniversary of ...  "
      ]
     },
     "execution_count": 17,
     "metadata": {},
     "output_type": "execute_result"
    }
   ],
   "source": [
    "# Print DataFrame\n",
    "final_News_df.head()"
   ]
  },
  {
   "cell_type": "markdown",
   "id": "66fdfb9e",
   "metadata": {},
   "source": [
    "# Text Enrichment with spaCy"
   ]
  },
  {
   "cell_type": "markdown",
   "id": "7f5c36ea",
   "metadata": {},
   "source": [
    "## Creating Doc Objects"
   ]
  },
  {
   "cell_type": "code",
   "execution_count": 18,
   "id": "5e9f6e5e",
   "metadata": {},
   "outputs": [
    {
     "name": "stdout",
     "output_type": "stream",
     "text": [
      "['tok2vec', 'tagger', 'parser', 'attribute_ruler', 'lemmatizer', 'ner']\n"
     ]
    }
   ],
   "source": [
    "# Load nlp pipeline\n",
    "nlp = spacy.load('en_core_web_sm')\n",
    "\n",
    "# Check what functions it performs\n",
    "print(nlp.pipe_names)"
   ]
  },
  {
   "cell_type": "code",
   "execution_count": 19,
   "id": "59b496ec",
   "metadata": {},
   "outputs": [],
   "source": [
    "# Define a function that runs the nlp pipeline on any given input text\n",
    "def process_text(text):\n",
    "    return nlp(text)"
   ]
  },
  {
   "cell_type": "code",
   "execution_count": 20,
   "id": "608a7cbb",
   "metadata": {},
   "outputs": [],
   "source": [
    "# Apply the function to the \"Text\" column, so that the nlp pipeline is called on each student essay\n",
    "final_News_df['Doc'] = final_News_df['Text'].apply(process_text)"
   ]
  },
  {
   "cell_type": "markdown",
   "id": "bc5bf97c",
   "metadata": {},
   "source": [
    "# Text Reduction"
   ]
  },
  {
   "cell_type": "markdown",
   "id": "8db51e32",
   "metadata": {},
   "source": [
    "## Tokenization"
   ]
  },
  {
   "cell_type": "markdown",
   "id": "d65590bb",
   "metadata": {},
   "source": [
    "A critical first step spaCy performs is tokenization, or the segmentation of strings into individual words and punctuation markers. Tokenization enables spaCy to parse the grammatical structures of a text and identify characteristics of each word-like part-of-speech.\n",
    "\n",
    "To retrieve a tokenized version of each text in the DataFrame, we’ll write a function that iterates through any given Doc object and returns all functions found within it."
   ]
  },
  {
   "cell_type": "code",
   "execution_count": 21,
   "id": "381d5b2a",
   "metadata": {},
   "outputs": [],
   "source": [
    "# Define a function to retrieve tokens from a doc object\n",
    "def get_token(doc):\n",
    "    return [(token.text) for token in doc]"
   ]
  },
  {
   "cell_type": "code",
   "execution_count": 22,
   "id": "2549ba81",
   "metadata": {},
   "outputs": [
    {
     "data": {
      "text/html": [
       "<div>\n",
       "<style scoped>\n",
       "    .dataframe tbody tr th:only-of-type {\n",
       "        vertical-align: middle;\n",
       "    }\n",
       "\n",
       "    .dataframe tbody tr th {\n",
       "        vertical-align: top;\n",
       "    }\n",
       "\n",
       "    .dataframe thead th {\n",
       "        text-align: right;\n",
       "    }\n",
       "</style>\n",
       "<table border=\"1\" class=\"dataframe\">\n",
       "  <thead>\n",
       "    <tr style=\"text-align: right;\">\n",
       "      <th></th>\n",
       "      <th>Filename</th>\n",
       "      <th>Title</th>\n",
       "      <th>Date</th>\n",
       "      <th>Spokesman</th>\n",
       "      <th>Text</th>\n",
       "      <th>Doc</th>\n",
       "      <th>Tokens</th>\n",
       "    </tr>\n",
       "  </thead>\n",
       "  <tbody>\n",
       "    <tr>\n",
       "      <th>0</th>\n",
       "      <td>txt_01</td>\n",
       "      <td>Foreign Ministry Spokesperson Mao Nings Regula...</td>\n",
       "      <td>29-Dec-23</td>\n",
       "      <td>Mao Ning</td>\n",
       "      <td>CNR This year, President Xi Jinping visited As...</td>\n",
       "      <td>(CNR, This, year, ,, President, Xi, Jinping, v...</td>\n",
       "      <td>[CNR, This, year, ,, President, Xi, Jinping, v...</td>\n",
       "    </tr>\n",
       "    <tr>\n",
       "      <th>1</th>\n",
       "      <td>txt_02</td>\n",
       "      <td>Foreign Ministry Spokesperson Mao Nings Regula...</td>\n",
       "      <td>28-Dec-23</td>\n",
       "      <td>Mao Ning</td>\n",
       "      <td>AFP Chinas Embassy in Myanmar today reminded a...</td>\n",
       "      <td>(AFP, Chinas, Embassy, in, Myanmar, today, rem...</td>\n",
       "      <td>[AFP, Chinas, Embassy, in, Myanmar, today, rem...</td>\n",
       "    </tr>\n",
       "    <tr>\n",
       "      <th>2</th>\n",
       "      <td>txt_03</td>\n",
       "      <td>Foreign Ministry Spokesperson Mao Nings Regula...</td>\n",
       "      <td>27-Dec-23</td>\n",
       "      <td>Mao Ning</td>\n",
       "      <td>CCTV This year marks the th anniversary of the...</td>\n",
       "      <td>(CCTV, This, year, marks, the, th, anniversary...</td>\n",
       "      <td>[CCTV, This, year, marks, the, th, anniversary...</td>\n",
       "    </tr>\n",
       "    <tr>\n",
       "      <th>3</th>\n",
       "      <td>txt_04</td>\n",
       "      <td>Foreign Ministry Spokesperson Mao Nings Regula...</td>\n",
       "      <td>26-Dec-23</td>\n",
       "      <td>Mao Ning</td>\n",
       "      <td>China News Service Premier Li Qiang attended t...</td>\n",
       "      <td>(China, News, Service, Premier, Li, Qiang, att...</td>\n",
       "      <td>[China, News, Service, Premier, Li, Qiang, att...</td>\n",
       "    </tr>\n",
       "    <tr>\n",
       "      <th>4</th>\n",
       "      <td>txt_05</td>\n",
       "      <td>Foreign Ministry Spokesperson Mao Nings Regula...</td>\n",
       "      <td>25-Dec-23</td>\n",
       "      <td>Mao Ning</td>\n",
       "      <td>CCTV This year marks the tenth anniversary of ...</td>\n",
       "      <td>(CCTV, This, year, marks, the, tenth, annivers...</td>\n",
       "      <td>[CCTV, This, year, marks, the, tenth, annivers...</td>\n",
       "    </tr>\n",
       "  </tbody>\n",
       "</table>\n",
       "</div>"
      ],
      "text/plain": [
       "  Filename                                              Title       Date  \\\n",
       "0   txt_01  Foreign Ministry Spokesperson Mao Nings Regula...  29-Dec-23   \n",
       "1   txt_02  Foreign Ministry Spokesperson Mao Nings Regula...  28-Dec-23   \n",
       "2   txt_03  Foreign Ministry Spokesperson Mao Nings Regula...  27-Dec-23   \n",
       "3   txt_04  Foreign Ministry Spokesperson Mao Nings Regula...  26-Dec-23   \n",
       "4   txt_05  Foreign Ministry Spokesperson Mao Nings Regula...  25-Dec-23   \n",
       "\n",
       "  Spokesman                                               Text  \\\n",
       "0  Mao Ning  CNR This year, President Xi Jinping visited As...   \n",
       "1  Mao Ning  AFP Chinas Embassy in Myanmar today reminded a...   \n",
       "2  Mao Ning  CCTV This year marks the th anniversary of the...   \n",
       "3  Mao Ning  China News Service Premier Li Qiang attended t...   \n",
       "4  Mao Ning  CCTV This year marks the tenth anniversary of ...   \n",
       "\n",
       "                                                 Doc  \\\n",
       "0  (CNR, This, year, ,, President, Xi, Jinping, v...   \n",
       "1  (AFP, Chinas, Embassy, in, Myanmar, today, rem...   \n",
       "2  (CCTV, This, year, marks, the, th, anniversary...   \n",
       "3  (China, News, Service, Premier, Li, Qiang, att...   \n",
       "4  (CCTV, This, year, marks, the, tenth, annivers...   \n",
       "\n",
       "                                              Tokens  \n",
       "0  [CNR, This, year, ,, President, Xi, Jinping, v...  \n",
       "1  [AFP, Chinas, Embassy, in, Myanmar, today, rem...  \n",
       "2  [CCTV, This, year, marks, the, th, anniversary...  \n",
       "3  [China, News, Service, Premier, Li, Qiang, att...  \n",
       "4  [CCTV, This, year, marks, the, tenth, annivers...  "
      ]
     },
     "execution_count": 22,
     "metadata": {},
     "output_type": "execute_result"
    }
   ],
   "source": [
    "# Run the token retrieval function on the doc objects in the dataframe\n",
    "final_News_df['Tokens'] = final_News_df['Doc'].apply(get_token)\n",
    "final_News_df.head()"
   ]
  },
  {
   "cell_type": "code",
   "execution_count": 24,
   "id": "e80c31b8",
   "metadata": {},
   "outputs": [
    {
     "data": {
      "text/html": [
       "<div>\n",
       "<style scoped>\n",
       "    .dataframe tbody tr th:only-of-type {\n",
       "        vertical-align: middle;\n",
       "    }\n",
       "\n",
       "    .dataframe tbody tr th {\n",
       "        vertical-align: top;\n",
       "    }\n",
       "\n",
       "    .dataframe thead th {\n",
       "        text-align: right;\n",
       "    }\n",
       "</style>\n",
       "<table border=\"1\" class=\"dataframe\">\n",
       "  <thead>\n",
       "    <tr style=\"text-align: right;\">\n",
       "      <th></th>\n",
       "      <th>Text</th>\n",
       "      <th>Tokens</th>\n",
       "    </tr>\n",
       "  </thead>\n",
       "  <tbody>\n",
       "    <tr>\n",
       "      <th>0</th>\n",
       "      <td>CNR This year, President Xi Jinping visited As...</td>\n",
       "      <td>[CNR, This, year, ,, President, Xi, Jinping, v...</td>\n",
       "    </tr>\n",
       "    <tr>\n",
       "      <th>1</th>\n",
       "      <td>AFP Chinas Embassy in Myanmar today reminded a...</td>\n",
       "      <td>[AFP, Chinas, Embassy, in, Myanmar, today, rem...</td>\n",
       "    </tr>\n",
       "    <tr>\n",
       "      <th>2</th>\n",
       "      <td>CCTV This year marks the th anniversary of the...</td>\n",
       "      <td>[CCTV, This, year, marks, the, th, anniversary...</td>\n",
       "    </tr>\n",
       "    <tr>\n",
       "      <th>3</th>\n",
       "      <td>China News Service Premier Li Qiang attended t...</td>\n",
       "      <td>[China, News, Service, Premier, Li, Qiang, att...</td>\n",
       "    </tr>\n",
       "    <tr>\n",
       "      <th>4</th>\n",
       "      <td>CCTV This year marks the tenth anniversary of ...</td>\n",
       "      <td>[CCTV, This, year, marks, the, tenth, annivers...</td>\n",
       "    </tr>\n",
       "  </tbody>\n",
       "</table>\n",
       "</div>"
      ],
      "text/plain": [
       "                                                Text  \\\n",
       "0  CNR This year, President Xi Jinping visited As...   \n",
       "1  AFP Chinas Embassy in Myanmar today reminded a...   \n",
       "2  CCTV This year marks the th anniversary of the...   \n",
       "3  China News Service Premier Li Qiang attended t...   \n",
       "4  CCTV This year marks the tenth anniversary of ...   \n",
       "\n",
       "                                              Tokens  \n",
       "0  [CNR, This, year, ,, President, Xi, Jinping, v...  \n",
       "1  [AFP, Chinas, Embassy, in, Myanmar, today, rem...  \n",
       "2  [CCTV, This, year, marks, the, th, anniversary...  \n",
       "3  [China, News, Service, Premier, Li, Qiang, att...  \n",
       "4  [CCTV, This, year, marks, the, tenth, annivers...  "
      ]
     },
     "execution_count": 24,
     "metadata": {},
     "output_type": "execute_result"
    }
   ],
   "source": [
    "tokens = final_News_df[['Text', 'Tokens']].copy()\n",
    "tokens.head()"
   ]
  },
  {
   "cell_type": "markdown",
   "id": "5045a501",
   "metadata": {},
   "source": [
    "## Lemmatization"
   ]
  },
  {
   "cell_type": "markdown",
   "id": "d861a89f",
   "metadata": {},
   "source": [
    "Another process performed by spaCy is lemmatization, or the retrieval of the dictionary root word of each word (for example “brighten” for “brightening”). We’ll perform a similar set of steps to those above to create a function to call the lemmas from the Doc object, then apply it to the DataFrame."
   ]
  },
  {
   "cell_type": "code",
   "execution_count": 25,
   "id": "06f692c1",
   "metadata": {},
   "outputs": [],
   "source": [
    "# Define a function to retrieve lemmas from a doc object\n",
    "def get_lemma(doc):\n",
    "    return [(token.lemma_) for token in doc]\n",
    "\n",
    "# Run the lemma retrieval function on the doc objects in the dataframe\n",
    "final_News_df['Lemmas'] = final_News_df['Doc'].apply(get_lemma)"
   ]
  },
  {
   "cell_type": "markdown",
   "id": "6cec9f3d",
   "metadata": {},
   "source": [
    "## Text Annotation"
   ]
  },
  {
   "cell_type": "markdown",
   "id": "ffaf9d18",
   "metadata": {},
   "source": [
    "## Part of Speech Tagging"
   ]
  },
  {
   "cell_type": "markdown",
   "id": "b3a9dbf4",
   "metadata": {},
   "source": [
    "spaCy facilitates two levels of part-of-speech tagging: coarse-grained tagging, which predicts the simple universal part-of-speech of each token in a text (such as noun, verb, adjective, adverb), and detailed tagging, which uses a larger, more fine-grained set of part-of-speech tags (for example 3rd person singular present verb). The part-of-speech tags used are determined by the English language model we use. In this case, we’re using the small English model, and you can explore the differences between the models on spaCy’s website.\n",
    "\n",
    "We can call the part-of-speech tags in the same way as the lemmas. Create a function to extract them from any given Doc object and apply the function to each Doc object in the DataFrame. The function we’ll create will extract both the coarse- and fine-grained part-of-speech for each token (token.pos_ and token.tag_, respectively)."
   ]
  },
  {
   "cell_type": "code",
   "execution_count": 26,
   "id": "6da81862",
   "metadata": {},
   "outputs": [],
   "source": [
    "# Define a function to retrieve lemmas from a doc object\n",
    "def get_pos(doc):\n",
    "    #Return the coarse- and fine-grained part of speech text for each token in the doc\n",
    "    return [(token.pos_, token.tag_) for token in doc]\n",
    "\n",
    "# Define a function to retrieve parts of speech from a doc object\n",
    "final_News_df['POS'] = final_News_df['Doc'].apply(get_pos)"
   ]
  },
  {
   "cell_type": "code",
   "execution_count": 29,
   "id": "cf7e57f7",
   "metadata": {},
   "outputs": [],
   "source": [
    "# Define function to extract proper nouns from Doc object\n",
    "def extract_proper_nouns(doc):\n",
    "    return [token.text for token in doc if token.pos_ == 'PROPN']\n",
    "\n",
    "# Apply function to Doc column and store resulting proper nouns in new column\n",
    "final_News_df['Proper_Nouns'] = final_News_df['Doc'].apply(extract_proper_nouns)"
   ]
  },
  {
   "cell_type": "markdown",
   "id": "f87fdd4b",
   "metadata": {},
   "source": [
    "## Named Entity Recognition"
   ]
  },
  {
   "cell_type": "markdown",
   "id": "08baa7e2",
   "metadata": {},
   "source": [
    "spaCy can tag named entities in the text, such as names, dates, organizations, and locations. Call the full list of named entities and their descriptions using this code:"
   ]
  },
  {
   "cell_type": "code",
   "execution_count": 31,
   "id": "e408f911",
   "metadata": {},
   "outputs": [
    {
     "name": "stdout",
     "output_type": "stream",
     "text": [
      "CARDINAL : Numerals that do not fall under another type\n",
      "DATE : Absolute or relative dates or periods\n",
      "EVENT : Named hurricanes, battles, wars, sports events, etc.\n",
      "FAC : Buildings, airports, highways, bridges, etc.\n",
      "GPE : Countries, cities, states\n",
      "LANGUAGE : Any named language\n",
      "LAW : Named documents made into laws.\n",
      "LOC : Non-GPE locations, mountain ranges, bodies of water\n",
      "MONEY : Monetary values, including unit\n",
      "NORP : Nationalities or religious or political groups\n",
      "ORDINAL : \"first\", \"second\", etc.\n",
      "ORG : Companies, agencies, institutions, etc.\n",
      "PERCENT : Percentage, including \"%\"\n",
      "PERSON : People, including fictional\n",
      "PRODUCT : Objects, vehicles, foods, etc. (not services)\n",
      "QUANTITY : Measurements, as of weight or distance\n",
      "TIME : Times smaller than a day\n",
      "WORK_OF_ART : Titles of books, songs, etc.\n"
     ]
    }
   ],
   "source": [
    "# Get all NE labels and assign to variable\n",
    "labels = nlp.get_pipe(\"ner\").labels\n",
    "\n",
    "# Print each label and its description\n",
    "for label in labels:\n",
    "    print(label + ' : ' + spacy.explain(label))"
   ]
  },
  {
   "cell_type": "markdown",
   "id": "5248738c",
   "metadata": {},
   "source": [
    "Let's check the named entity recognition of the full text"
   ]
  },
  {
   "cell_type": "code",
   "execution_count": 32,
   "id": "4955e43c",
   "metadata": {},
   "outputs": [
    {
     "data": {
      "text/plain": [
       "0     [ORG, DATE, PERSON, LOC, LOC, LOC, GPE, GPE, L...\n",
       "1     [ORG, GPE, DATE, NORP, GPE, NORP, PERSON, GPE,...\n",
       "2     [ORG, DATE, FAC, PERSON, DATE, FAC, FAC, DATE,...\n",
       "3     [ORG, PERSON, ORDINAL, ORG, DATE, PERSON, DATE...\n",
       "4     [ORG, DATE, ORDINAL, PERSON, EVENT, CARDINAL, ...\n",
       "5     [ORDINAL, ORG, DATE, PERSON, ORG, CARDINAL, GP...\n",
       "6     [ORG, PERSON, ORG, GPE, GPE, GPE, PERSON, ORG,...\n",
       "7     [GPE, GPE, DATE, GPE, FAC, PERSON, ORG, FAC, O...\n",
       "8     [ORG, TIME, DATE, GPE, NORP, PERSON, ORG, PERS...\n",
       "9     [ORG, PERSON, ORG, PERSON, GPE, DATE, NORP, NO...\n",
       "10    [PERSON, GPE, PERSON, DATE, PERSON, GPE, PERSO...\n",
       "11    [ORG, ORG, GPE, WORK_OF_ART, ORDINAL, ORG, ORG...\n",
       "12    [GPE, PERSON, ORG, PERSON, GPE, DATE, ORG, PER...\n",
       "13    [ORG, DATE, GPE, PERSON, PERSON, ORG, PERSON, ...\n",
       "14    [ORG, DATE, GPE, ORG, GPE, PERSON, ORG, NORP, ...\n",
       "15    [GPE, ORG, DATE, NORP, NORP, DATE, DATE, NORP,...\n",
       "16    [GPE, PERSON, ORG, PERSON, GPE, PERSON, GPE, D...\n",
       "17    [GPE, ORG, PERSON, WORK_OF_ART, ORDINAL, EVENT...\n",
       "18    [ORG, DATE, ORG, ORG, GPE, GPE, GPE, ORG, PERS...\n",
       "19    [ORG, ORG, PERSON, GPE, PERSON, GPE, DATE, PER...\n",
       "20    [ORG, GPE, ORG, GPE, DATE, DATE, ORG, PERSON, ...\n",
       "Name: Named_Entities, dtype: object"
      ]
     },
     "execution_count": 32,
     "metadata": {},
     "output_type": "execute_result"
    }
   ],
   "source": [
    "# Define function to extract named entities from doc objects\n",
    "def extract_named_entities(doc):\n",
    "    return [ent.label_ for ent in doc.ents]\n",
    "\n",
    "# Apply function to Doc column and store resulting named entities in new column\n",
    "final_News_df['Named_Entities'] = final_News_df['Doc'].apply(extract_named_entities)\n",
    "final_News_df['Named_Entities']"
   ]
  },
  {
   "cell_type": "markdown",
   "id": "217e1666",
   "metadata": {},
   "source": [
    "We can add another column with the words and phrases identified as named entities:"
   ]
  },
  {
   "cell_type": "code",
   "execution_count": 33,
   "id": "3da6919a",
   "metadata": {},
   "outputs": [
    {
     "data": {
      "text/plain": [
       "0     [(CNR), (This, year), (Xi, Jinping), (Asia), (...\n",
       "1     [(AFP, Chinas, Embassy), (Myanmar), (today), (...\n",
       "2     [(CCTV), (This, year), (the, Belt, and, Road, ...\n",
       "3     [(China, News, Service), (Li, Qiang), (fourth)...\n",
       "4     [(CCTV), (This, year), (tenth), (Xi, Jinping),...\n",
       "5     [(fourth), (LancangMekong, Cooperation), (Dece...\n",
       "6     [(CCTV), (Steven, Barnett), (IMF, Senior, Resi...\n",
       "7     [(Shenzhen), (China), (years, ago), (China), (...\n",
       "8     [(CCTV, Egypts, National, Elections, Authority...\n",
       "9     [(the, State, Council), (Li, Qiang), (the, Rus...\n",
       "10    [(Xi, Jinping), (Viet, Nam), (Mao), (December)...\n",
       "11    [(China, News, Service), (COP), (Dubai), (Cont...\n",
       "12    [(the, Republic, of, Madagascar, Andry, Nirina...\n",
       "13    [(CCTV), (December), (Argentinas), (Javier, Mi...\n",
       "14    [(CCTV), (December), (Philippines), (Renai, Ji...\n",
       "15    [(China), (COVID), (January), (Chinese), (Chin...\n",
       "16    [(Argentina), (Xi, Jinpings), (the, Standing, ...\n",
       "17    [(Mekong), (the, Political, Bureau, of, the, C...\n",
       "18    [(China, News, Service), (December), (the, Int...\n",
       "19    [(the, Standing, Committee, of, the, Political...\n",
       "20    [(Reuters, Kyodo, News), (Beijing), (the, Xian...\n",
       "Name: NE_Words, dtype: object"
      ]
     },
     "execution_count": 33,
     "metadata": {},
     "output_type": "execute_result"
    }
   ],
   "source": [
    "# Define function to extract text tagged with named entities from doc objects\n",
    "def extract_named_entities(doc):\n",
    "    return [ent for ent in doc.ents]\n",
    "\n",
    "# Apply function to Doc column and store resulting text in new column\n",
    "final_News_df['NE_Words'] = final_News_df['Doc'].apply(extract_named_entities)\n",
    "final_News_df['NE_Words']"
   ]
  },
  {
   "cell_type": "markdown",
   "id": "204bb338",
   "metadata": {},
   "source": [
    "Let’s visualize the words and their named entity tags in a single text. Call the first text’s Doc object and use displacy.render to visualize the text with the named entities highlighted and tagged:"
   ]
  },
  {
   "cell_type": "code",
   "execution_count": 34,
   "id": "378478ff",
   "metadata": {},
   "outputs": [
    {
     "data": {
      "text/html": [
       "<span class=\"tex2jax_ignore\"><div class=\"entities\" style=\"line-height: 2.5; direction: ltr\">\n",
       "<mark class=\"entity\" style=\"background: #7aecec; padding: 0.45em 0.6em; margin: 0 0.25em; line-height: 1; border-radius: 0.35em;\">\n",
       "    AFP Chinas Embassy\n",
       "    <span style=\"font-size: 0.8em; font-weight: bold; line-height: 1; border-radius: 0.35em; vertical-align: middle; margin-left: 0.5rem\">ORG</span>\n",
       "</mark>\n",
       " in \n",
       "<mark class=\"entity\" style=\"background: #feca74; padding: 0.45em 0.6em; margin: 0 0.25em; line-height: 1; border-radius: 0.35em;\">\n",
       "    Myanmar\n",
       "    <span style=\"font-size: 0.8em; font-weight: bold; line-height: 1; border-radius: 0.35em; vertical-align: middle; margin-left: 0.5rem\">GPE</span>\n",
       "</mark>\n",
       " \n",
       "<mark class=\"entity\" style=\"background: #bfe1d9; padding: 0.45em 0.6em; margin: 0 0.25em; line-height: 1; border-radius: 0.35em;\">\n",
       "    today\n",
       "    <span style=\"font-size: 0.8em; font-weight: bold; line-height: 1; border-radius: 0.35em; vertical-align: middle; margin-left: 0.5rem\">DATE</span>\n",
       "</mark>\n",
       " reminded all \n",
       "<mark class=\"entity\" style=\"background: #c887fb; padding: 0.45em 0.6em; margin: 0 0.25em; line-height: 1; border-radius: 0.35em;\">\n",
       "    Chinese\n",
       "    <span style=\"font-size: 0.8em; font-weight: bold; line-height: 1; border-radius: 0.35em; vertical-align: middle; margin-left: 0.5rem\">NORP</span>\n",
       "</mark>\n",
       " nationals in \n",
       "<mark class=\"entity\" style=\"background: #feca74; padding: 0.45em 0.6em; margin: 0 0.25em; line-height: 1; border-radius: 0.35em;\">\n",
       "    Laukkaing\n",
       "    <span style=\"font-size: 0.8em; font-weight: bold; line-height: 1; border-radius: 0.35em; vertical-align: middle; margin-left: 0.5rem\">GPE</span>\n",
       "</mark>\n",
       " to evacuate soon. Can you share more information with us, including the possible further mediation by the \n",
       "<mark class=\"entity\" style=\"background: #c887fb; padding: 0.45em 0.6em; margin: 0 0.25em; line-height: 1; border-radius: 0.35em;\">\n",
       "    Chinese\n",
       "    <span style=\"font-size: 0.8em; font-weight: bold; line-height: 1; border-radius: 0.35em; vertical-align: middle; margin-left: 0.5rem\">NORP</span>\n",
       "</mark>\n",
       " side? \n",
       "<mark class=\"entity\" style=\"background: #aa9cfc; padding: 0.45em 0.6em; margin: 0 0.25em; line-height: 1; border-radius: 0.35em;\">\n",
       "    Mao Ning\n",
       "    <span style=\"font-size: 0.8em; font-weight: bold; line-height: 1; border-radius: 0.35em; vertical-align: middle; margin-left: 0.5rem\">PERSON</span>\n",
       "</mark>\n",
       " The current security situation in the \n",
       "<mark class=\"entity\" style=\"background: #feca74; padding: 0.45em 0.6em; margin: 0 0.25em; line-height: 1; border-radius: 0.35em;\">\n",
       "    Kokang\n",
       "    <span style=\"font-size: 0.8em; font-weight: bold; line-height: 1; border-radius: 0.35em; vertical-align: middle; margin-left: 0.5rem\">GPE</span>\n",
       "</mark>\n",
       " selfadministered zone in \n",
       "<mark class=\"entity\" style=\"background: #feca74; padding: 0.45em 0.6em; margin: 0 0.25em; line-height: 1; border-radius: 0.35em;\">\n",
       "    Myanmar\n",
       "    <span style=\"font-size: 0.8em; font-weight: bold; line-height: 1; border-radius: 0.35em; vertical-align: middle; margin-left: 0.5rem\">GPE</span>\n",
       "</mark>\n",
       " is severe and complex. We would like to remind \n",
       "<mark class=\"entity\" style=\"background: #c887fb; padding: 0.45em 0.6em; margin: 0 0.25em; line-height: 1; border-radius: 0.35em;\">\n",
       "    Chinese\n",
       "    <span style=\"font-size: 0.8em; font-weight: bold; line-height: 1; border-radius: 0.35em; vertical-align: middle; margin-left: 0.5rem\">NORP</span>\n",
       "</mark>\n",
       " nationals not to travel to northern \n",
       "<mark class=\"entity\" style=\"background: #feca74; padding: 0.45em 0.6em; margin: 0 0.25em; line-height: 1; border-radius: 0.35em;\">\n",
       "    Myanmar\n",
       "    <span style=\"font-size: 0.8em; font-weight: bold; line-height: 1; border-radius: 0.35em; vertical-align: middle; margin-left: 0.5rem\">GPE</span>\n",
       "</mark>\n",
       " and call on \n",
       "<mark class=\"entity\" style=\"background: #c887fb; padding: 0.45em 0.6em; margin: 0 0.25em; line-height: 1; border-radius: 0.35em;\">\n",
       "    Chinese\n",
       "    <span style=\"font-size: 0.8em; font-weight: bold; line-height: 1; border-radius: 0.35em; vertical-align: middle; margin-left: 0.5rem\">NORP</span>\n",
       "</mark>\n",
       " nationals already in the area, especially those in \n",
       "<mark class=\"entity\" style=\"background: #feca74; padding: 0.45em 0.6em; margin: 0 0.25em; line-height: 1; border-radius: 0.35em;\">\n",
       "    Laukkaing Township\n",
       "    <span style=\"font-size: 0.8em; font-weight: bold; line-height: 1; border-radius: 0.35em; vertical-align: middle; margin-left: 0.5rem\">GPE</span>\n",
       "</mark>\n",
       ", to move to safety or return to \n",
       "<mark class=\"entity\" style=\"background: #feca74; padding: 0.45em 0.6em; margin: 0 0.25em; line-height: 1; border-radius: 0.35em;\">\n",
       "    China\n",
       "    <span style=\"font-size: 0.8em; font-weight: bold; line-height: 1; border-radius: 0.35em; vertical-align: middle; margin-left: 0.5rem\">GPE</span>\n",
       "</mark>\n",
       " as soon as possible and take safety precautions. \n",
       "<mark class=\"entity\" style=\"background: #feca74; padding: 0.45em 0.6em; margin: 0 0.25em; line-height: 1; border-radius: 0.35em;\">\n",
       "    China\n",
       "    <span style=\"font-size: 0.8em; font-weight: bold; line-height: 1; border-radius: 0.35em; vertical-align: middle; margin-left: 0.5rem\">GPE</span>\n",
       "</mark>\n",
       " believes that maintaining the momentum of ceasefire and peace talks serves the interest of relevant parties in \n",
       "<mark class=\"entity\" style=\"background: #feca74; padding: 0.45em 0.6em; margin: 0 0.25em; line-height: 1; border-radius: 0.35em;\">\n",
       "    Myanmar\n",
       "    <span style=\"font-size: 0.8em; font-weight: bold; line-height: 1; border-radius: 0.35em; vertical-align: middle; margin-left: 0.5rem\">GPE</span>\n",
       "</mark>\n",
       " and helps ensure peace and tranquility at the \n",
       "<mark class=\"entity\" style=\"background: #7aecec; padding: 0.45em 0.6em; margin: 0 0.25em; line-height: 1; border-radius: 0.35em;\">\n",
       "    ChinaMyanmar\n",
       "    <span style=\"font-size: 0.8em; font-weight: bold; line-height: 1; border-radius: 0.35em; vertical-align: middle; margin-left: 0.5rem\">ORG</span>\n",
       "</mark>\n",
       " border area. \n",
       "<mark class=\"entity\" style=\"background: #feca74; padding: 0.45em 0.6em; margin: 0 0.25em; line-height: 1; border-radius: 0.35em;\">\n",
       "    China\n",
       "    <span style=\"font-size: 0.8em; font-weight: bold; line-height: 1; border-radius: 0.35em; vertical-align: middle; margin-left: 0.5rem\">GPE</span>\n",
       "</mark>\n",
       " hopes that relevant parties in \n",
       "<mark class=\"entity\" style=\"background: #feca74; padding: 0.45em 0.6em; margin: 0 0.25em; line-height: 1; border-radius: 0.35em;\">\n",
       "    Myanmar\n",
       "    <span style=\"font-size: 0.8em; font-weight: bold; line-height: 1; border-radius: 0.35em; vertical-align: middle; margin-left: 0.5rem\">GPE</span>\n",
       "</mark>\n",
       " will exercise maximum restraint, actively ease the situation on the ground, together realize the soft landing of the situation in northern \n",
       "<mark class=\"entity\" style=\"background: #feca74; padding: 0.45em 0.6em; margin: 0 0.25em; line-height: 1; border-radius: 0.35em;\">\n",
       "    Myanmar\n",
       "    <span style=\"font-size: 0.8em; font-weight: bold; line-height: 1; border-radius: 0.35em; vertical-align: middle; margin-left: 0.5rem\">GPE</span>\n",
       "</mark>\n",
       " and take concrete actions to protect the safety and security of \n",
       "<mark class=\"entity\" style=\"background: #c887fb; padding: 0.45em 0.6em; margin: 0 0.25em; line-height: 1; border-radius: 0.35em;\">\n",
       "    Chinese\n",
       "    <span style=\"font-size: 0.8em; font-weight: bold; line-height: 1; border-radius: 0.35em; vertical-align: middle; margin-left: 0.5rem\">NORP</span>\n",
       "</mark>\n",
       " projects and personnel in \n",
       "<mark class=\"entity\" style=\"background: #feca74; padding: 0.45em 0.6em; margin: 0 0.25em; line-height: 1; border-radius: 0.35em;\">\n",
       "    Myanmar\n",
       "    <span style=\"font-size: 0.8em; font-weight: bold; line-height: 1; border-radius: 0.35em; vertical-align: middle; margin-left: 0.5rem\">GPE</span>\n",
       "</mark>\n",
       ". \n",
       "<mark class=\"entity\" style=\"background: #feca74; padding: 0.45em 0.6em; margin: 0 0.25em; line-height: 1; border-radius: 0.35em;\">\n",
       "    Shenzhen\n",
       "    <span style=\"font-size: 0.8em; font-weight: bold; line-height: 1; border-radius: 0.35em; vertical-align: middle; margin-left: 0.5rem\">GPE</span>\n",
       "</mark>\n",
       " TV \n",
       "<mark class=\"entity\" style=\"background: #7aecec; padding: 0.45em 0.6em; margin: 0 0.25em; line-height: 1; border-radius: 0.35em;\">\n",
       "    The UKbased Financial Times\n",
       "    <span style=\"font-size: 0.8em; font-weight: bold; line-height: 1; border-radius: 0.35em; vertical-align: middle; margin-left: 0.5rem\">ORG</span>\n",
       "</mark>\n",
       " reported earlier that \n",
       "<mark class=\"entity\" style=\"background: #feca74; padding: 0.45em 0.6em; margin: 0 0.25em; line-height: 1; border-radius: 0.35em;\">\n",
       "    China\n",
       "    <span style=\"font-size: 0.8em; font-weight: bold; line-height: 1; border-radius: 0.35em; vertical-align: middle; margin-left: 0.5rem\">GPE</span>\n",
       "</mark>\n",
       " is imposing a lengthy approval process and strict requirements to impede projects that lay and maintain undersea cables through \n",
       "<mark class=\"entity\" style=\"background: #ff9561; padding: 0.45em 0.6em; margin: 0 0.25em; line-height: 1; border-radius: 0.35em;\">\n",
       "    the South China Sea\n",
       "    <span style=\"font-size: 0.8em; font-weight: bold; line-height: 1; border-radius: 0.35em; vertical-align: middle; margin-left: 0.5rem\">LOC</span>\n",
       "</mark>\n",
       ". This has forced cable companies to reroute and bypass \n",
       "<mark class=\"entity\" style=\"background: #ff9561; padding: 0.45em 0.6em; margin: 0 0.25em; line-height: 1; border-radius: 0.35em;\">\n",
       "    the South China Sea\n",
       "    <span style=\"font-size: 0.8em; font-weight: bold; line-height: 1; border-radius: 0.35em; vertical-align: middle; margin-left: 0.5rem\">LOC</span>\n",
       "</mark>\n",
       ". Nikkei also reported that owing to the lengthy approval by \n",
       "<mark class=\"entity\" style=\"background: #7aecec; padding: 0.45em 0.6em; margin: 0 0.25em; line-height: 1; border-radius: 0.35em;\">\n",
       "    Chinas\n",
       "    <span style=\"font-size: 0.8em; font-weight: bold; line-height: 1; border-radius: 0.35em; vertical-align: middle; margin-left: 0.5rem\">ORG</span>\n",
       "</mark>\n",
       " competent authorities, the progress of some cable projects through \n",
       "<mark class=\"entity\" style=\"background: #ff9561; padding: 0.45em 0.6em; margin: 0 0.25em; line-height: 1; border-radius: 0.35em;\">\n",
       "    the South China Sea\n",
       "    <span style=\"font-size: 0.8em; font-weight: bold; line-height: 1; border-radius: 0.35em; vertical-align: middle; margin-left: 0.5rem\">LOC</span>\n",
       "</mark>\n",
       " has been slowed down. Whats your comments? \n",
       "<mark class=\"entity\" style=\"background: #aa9cfc; padding: 0.45em 0.6em; margin: 0 0.25em; line-height: 1; border-radius: 0.35em;\">\n",
       "    Mao Ning Undersea\n",
       "    <span style=\"font-size: 0.8em; font-weight: bold; line-height: 1; border-radius: 0.35em; vertical-align: middle; margin-left: 0.5rem\">PERSON</span>\n",
       "</mark>\n",
       " cables are critical infrastructure for global data flow and carry around percent of the worlds intercontinental communications traffic. They are the most important type of information carrier in international communications. Over \n",
       "<mark class=\"entity\" style=\"background: #bfe1d9; padding: 0.45em 0.6em; margin: 0 0.25em; line-height: 1; border-radius: 0.35em;\">\n",
       "    the years\n",
       "    <span style=\"font-size: 0.8em; font-weight: bold; line-height: 1; border-radius: 0.35em; vertical-align: middle; margin-left: 0.5rem\">DATE</span>\n",
       "</mark>\n",
       ", \n",
       "<mark class=\"entity\" style=\"background: #feca74; padding: 0.45em 0.6em; margin: 0 0.25em; line-height: 1; border-radius: 0.35em;\">\n",
       "    China\n",
       "    <span style=\"font-size: 0.8em; font-weight: bold; line-height: 1; border-radius: 0.35em; vertical-align: middle; margin-left: 0.5rem\">GPE</span>\n",
       "</mark>\n",
       " has enhanced international exchanges and cooperation in cyberspace and actively advanced the construction of undersea cables and other types of global information infrastructure. \n",
       "<mark class=\"entity\" style=\"background: #feca74; padding: 0.45em 0.6em; margin: 0 0.25em; line-height: 1; border-radius: 0.35em;\">\n",
       "    China\n",
       "    <span style=\"font-size: 0.8em; font-weight: bold; line-height: 1; border-radius: 0.35em; vertical-align: middle; margin-left: 0.5rem\">GPE</span>\n",
       "</mark>\n",
       " has implemented \n",
       "<mark class=\"entity\" style=\"background: #7aecec; padding: 0.45em 0.6em; margin: 0 0.25em; line-height: 1; border-radius: 0.35em;\">\n",
       "    the United Nations Convention on the Law of the Sea\n",
       "    <span style=\"font-size: 0.8em; font-weight: bold; line-height: 1; border-radius: 0.35em; vertical-align: middle; margin-left: 0.5rem\">ORG</span>\n",
       "</mark>\n",
       " in letter and in spirit, and issued \n",
       "<mark class=\"entity\" style=\"background: #7aecec; padding: 0.45em 0.6em; margin: 0 0.25em; line-height: 1; border-radius: 0.35em;\">\n",
       "    the Sea Areas Administration Law\n",
       "    <span style=\"font-size: 0.8em; font-weight: bold; line-height: 1; border-radius: 0.35em; vertical-align: middle; margin-left: 0.5rem\">ORG</span>\n",
       "</mark>\n",
       ", \n",
       "<mark class=\"entity\" style=\"background: #7aecec; padding: 0.45em 0.6em; margin: 0 0.25em; line-height: 1; border-radius: 0.35em;\">\n",
       "    the Marine Environment Protection Law\n",
       "    <span style=\"font-size: 0.8em; font-weight: bold; line-height: 1; border-radius: 0.35em; vertical-align: middle; margin-left: 0.5rem\">ORG</span>\n",
       "</mark>\n",
       ", \n",
       "<mark class=\"entity\" style=\"background: #7aecec; padding: 0.45em 0.6em; margin: 0 0.25em; line-height: 1; border-radius: 0.35em;\">\n",
       "    the Provisions Governing the Laying of Submarine Cables and Pipelines\n",
       "    <span style=\"font-size: 0.8em; font-weight: bold; line-height: 1; border-radius: 0.35em; vertical-align: middle; margin-left: 0.5rem\">ORG</span>\n",
       "</mark>\n",
       ", \n",
       "<mark class=\"entity\" style=\"background: #7aecec; padding: 0.45em 0.6em; margin: 0 0.25em; line-height: 1; border-radius: 0.35em;\">\n",
       "    the Provisions Governing the Protection of Submarine Cables and Pipelines\n",
       "    <span style=\"font-size: 0.8em; font-weight: bold; line-height: 1; border-radius: 0.35em; vertical-align: middle; margin-left: 0.5rem\">ORG</span>\n",
       "</mark>\n",
       " and other relevant laws and regulations, which identify countries rights and obligations in laying cables in waters under \n",
       "<mark class=\"entity\" style=\"background: #7aecec; padding: 0.45em 0.6em; margin: 0 0.25em; line-height: 1; border-radius: 0.35em;\">\n",
       "    Chinas\n",
       "    <span style=\"font-size: 0.8em; font-weight: bold; line-height: 1; border-radius: 0.35em; vertical-align: middle; margin-left: 0.5rem\">ORG</span>\n",
       "</mark>\n",
       " jurisdiction in accordance with the law. They provide sound legal safeguards to international undersea cables that travel through waters under \n",
       "<mark class=\"entity\" style=\"background: #7aecec; padding: 0.45em 0.6em; margin: 0 0.25em; line-height: 1; border-radius: 0.35em;\">\n",
       "    Chinas\n",
       "    <span style=\"font-size: 0.8em; font-weight: bold; line-height: 1; border-radius: 0.35em; vertical-align: middle; margin-left: 0.5rem\">ORG</span>\n",
       "</mark>\n",
       " jurisdiction. \n",
       "<mark class=\"entity\" style=\"background: #feca74; padding: 0.45em 0.6em; margin: 0 0.25em; line-height: 1; border-radius: 0.35em;\">\n",
       "    China\n",
       "    <span style=\"font-size: 0.8em; font-weight: bold; line-height: 1; border-radius: 0.35em; vertical-align: middle; margin-left: 0.5rem\">GPE</span>\n",
       "</mark>\n",
       " welcomes and supports other countries and telecommunication companies in laying international undersea cables in waters under \n",
       "<mark class=\"entity\" style=\"background: #7aecec; padding: 0.45em 0.6em; margin: 0 0.25em; line-height: 1; border-radius: 0.35em;\">\n",
       "    Chinas\n",
       "    <span style=\"font-size: 0.8em; font-weight: bold; line-height: 1; border-radius: 0.35em; vertical-align: middle; margin-left: 0.5rem\">ORG</span>\n",
       "</mark>\n",
       " jurisdiction. We encourage such collaboration between \n",
       "<mark class=\"entity\" style=\"background: #c887fb; padding: 0.45em 0.6em; margin: 0 0.25em; line-height: 1; border-radius: 0.35em;\">\n",
       "    Chinese\n",
       "    <span style=\"font-size: 0.8em; font-weight: bold; line-height: 1; border-radius: 0.35em; vertical-align: middle; margin-left: 0.5rem\">NORP</span>\n",
       "</mark>\n",
       " companies and their foreign counterparts. \n",
       "<mark class=\"entity\" style=\"background: #feca74; padding: 0.45em 0.6em; margin: 0 0.25em; line-height: 1; border-radius: 0.35em;\">\n",
       "    China\n",
       "    <span style=\"font-size: 0.8em; font-weight: bold; line-height: 1; border-radius: 0.35em; vertical-align: middle; margin-left: 0.5rem\">GPE</span>\n",
       "</mark>\n",
       " will continue to work with the international community to strengthen bilateral, regional and international dialogue and cooperation, actively advance the building of global information infrastructure including undersea cables, jointly protect the cables, and boost global digital connectivity. We will jointly build a fairer and more equitable, secure, stable and vibrant cyberspace and a community with a shared future in cyberspace.</div></span>"
      ],
      "text/plain": [
       "<IPython.core.display.HTML object>"
      ]
     },
     "metadata": {},
     "output_type": "display_data"
    }
   ],
   "source": [
    "# Extract the first Doc object\n",
    "doc = final_News_df['Doc'][1]\n",
    "\n",
    "# Visualize named entity tagging in a single paper\n",
    "displacy.render(doc, style='ent', jupyter=True)"
   ]
  },
  {
   "cell_type": "markdown",
   "id": "08dda258",
   "metadata": {},
   "source": [
    "# Download Enriched Dataset"
   ]
  },
  {
   "cell_type": "code",
   "execution_count": 35,
   "id": "b157d682",
   "metadata": {},
   "outputs": [],
   "source": [
    "# Save DataFrame as csv (in Google Drive)\n",
    "# Use this step only to save  csv to your computer's working directory\n",
    "final_News_df.to_csv('MICUSP_papers_with_spaCy_tags.csv')"
   ]
  },
  {
   "cell_type": "markdown",
   "id": "2fb2610d",
   "metadata": {},
   "source": [
    "# Analysis of Linguistic Annotations"
   ]
  },
  {
   "cell_type": "markdown",
   "id": "fc7527d0",
   "metadata": {},
   "source": [
    "## Part of Speech Analysis"
   ]
  },
  {
   "cell_type": "markdown",
   "id": "fa41dee4",
   "metadata": {},
   "source": [
    "spaCy counts the number of each part-of-speech tag that appears in each document (for example the number of times the NOUN tag appears in a document). This is called using doc.count_by(spacy.attrs.POS). Here’s how it works on a single sentence:"
   ]
  },
  {
   "cell_type": "code",
   "execution_count": 36,
   "id": "1c547fb2",
   "metadata": {},
   "outputs": [
    {
     "name": "stdout",
     "output_type": "stream",
     "text": [
      "{95: 1, 87: 1, 97: 3, 90: 1, 92: 2}\n"
     ]
    }
   ],
   "source": [
    "# Create doc object from single sentence\n",
    "doc = nlp(\"This is 'an' example? sentence\")\n",
    "\n",
    "# Print counts of each part of speech in sentence\n",
    "print(doc.count_by(spacy.attrs.POS))"
   ]
  },
  {
   "cell_type": "code",
   "execution_count": 37,
   "id": "bea2d24d",
   "metadata": {},
   "outputs": [
    {
     "data": {
      "text/plain": [
       "{'AUX': 1, 'DET': 1, 'NOUN': 2, 'PRON': 1, 'PUNCT': 3}"
      ]
     },
     "execution_count": 37,
     "metadata": {},
     "output_type": "execute_result"
    }
   ],
   "source": [
    "# Store dictionary with indexes and POS counts in a variable\n",
    "num_pos = doc.count_by(spacy.attrs.POS)\n",
    "\n",
    "dictionary = {}\n",
    "\n",
    "# Create a new dictionary which replaces the index of each part of speech for its label (NOUN, VERB, ADJECTIVE)\n",
    "for k,v in sorted(num_pos.items()):\n",
    "  dictionary[doc.vocab[k].text] = v\n",
    "\n",
    "dictionary"
   ]
  },
  {
   "cell_type": "code",
   "execution_count": 40,
   "id": "c25a2139",
   "metadata": {},
   "outputs": [],
   "source": [
    "# Create new DataFrame for analysis purposes\n",
    "pos_analysis_df = final_News_df[['Filename','Spokesman', 'Doc']]\n",
    "\n",
    "# Create list to store each dictionary\n",
    "num_list = []\n",
    "\n",
    "# Define a function to get part of speech tags and counts and append them to a new dictionary\n",
    "def get_pos_tags(doc):\n",
    "    dictionary = {}\n",
    "    num_pos = doc.count_by(spacy.attrs.POS)\n",
    "    for k,v in sorted(num_pos.items()):\n",
    "        dictionary[doc.vocab[k].text] = v\n",
    "    num_list.append(dictionary)\n",
    "\n",
    "# Apply function to each doc object in DataFrame\n",
    "pos_analysis_df.loc['C_POS'] = pos_analysis_df['Doc'].apply(get_pos_tags)"
   ]
  },
  {
   "cell_type": "markdown",
   "id": "98479122",
   "metadata": {},
   "source": [
    "# ❗️❗️Research question:  "
   ]
  },
  {
   "cell_type": "markdown",
   "id": "5497920e",
   "metadata": {},
   "source": [
    "## Do spokespersons Mao Ning and Wang Wenbing use certain parts of speech more frequently?"
   ]
  },
  {
   "cell_type": "code",
   "execution_count": 41,
   "id": "62f09b30",
   "metadata": {},
   "outputs": [
    {
     "data": {
      "text/html": [
       "<div>\n",
       "<style scoped>\n",
       "    .dataframe tbody tr th:only-of-type {\n",
       "        vertical-align: middle;\n",
       "    }\n",
       "\n",
       "    .dataframe tbody tr th {\n",
       "        vertical-align: top;\n",
       "    }\n",
       "\n",
       "    .dataframe thead th {\n",
       "        text-align: right;\n",
       "    }\n",
       "</style>\n",
       "<table border=\"1\" class=\"dataframe\">\n",
       "  <thead>\n",
       "    <tr style=\"text-align: right;\">\n",
       "      <th></th>\n",
       "      <th>Spokesman</th>\n",
       "      <th>ADJ</th>\n",
       "      <th>ADP</th>\n",
       "      <th>ADV</th>\n",
       "      <th>AUX</th>\n",
       "      <th>CCONJ</th>\n",
       "      <th>DET</th>\n",
       "      <th>INTJ</th>\n",
       "      <th>NOUN</th>\n",
       "      <th>NUM</th>\n",
       "      <th>PART</th>\n",
       "      <th>PRON</th>\n",
       "      <th>PROPN</th>\n",
       "      <th>PUNCT</th>\n",
       "      <th>SCONJ</th>\n",
       "      <th>VERB</th>\n",
       "      <th>X</th>\n",
       "    </tr>\n",
       "  </thead>\n",
       "  <tbody>\n",
       "    <tr>\n",
       "      <th>0</th>\n",
       "      <td>Mao Ning</td>\n",
       "      <td>262</td>\n",
       "      <td>319</td>\n",
       "      <td>80</td>\n",
       "      <td>107</td>\n",
       "      <td>137</td>\n",
       "      <td>237</td>\n",
       "      <td>2.0</td>\n",
       "      <td>519</td>\n",
       "      <td>4.0</td>\n",
       "      <td>43</td>\n",
       "      <td>133</td>\n",
       "      <td>348</td>\n",
       "      <td>230</td>\n",
       "      <td>34</td>\n",
       "      <td>293</td>\n",
       "      <td>3.0</td>\n",
       "    </tr>\n",
       "    <tr>\n",
       "      <th>1</th>\n",
       "      <td>Mao Ning</td>\n",
       "      <td>55</td>\n",
       "      <td>60</td>\n",
       "      <td>15</td>\n",
       "      <td>14</td>\n",
       "      <td>33</td>\n",
       "      <td>42</td>\n",
       "      <td>NaN</td>\n",
       "      <td>111</td>\n",
       "      <td>NaN</td>\n",
       "      <td>10</td>\n",
       "      <td>15</td>\n",
       "      <td>68</td>\n",
       "      <td>37</td>\n",
       "      <td>4</td>\n",
       "      <td>60</td>\n",
       "      <td>NaN</td>\n",
       "    </tr>\n",
       "    <tr>\n",
       "      <th>2</th>\n",
       "      <td>Mao Ning</td>\n",
       "      <td>80</td>\n",
       "      <td>98</td>\n",
       "      <td>17</td>\n",
       "      <td>28</td>\n",
       "      <td>50</td>\n",
       "      <td>65</td>\n",
       "      <td>NaN</td>\n",
       "      <td>176</td>\n",
       "      <td>7.0</td>\n",
       "      <td>8</td>\n",
       "      <td>21</td>\n",
       "      <td>114</td>\n",
       "      <td>64</td>\n",
       "      <td>3</td>\n",
       "      <td>73</td>\n",
       "      <td>4.0</td>\n",
       "    </tr>\n",
       "    <tr>\n",
       "      <th>3</th>\n",
       "      <td>Mao Ning</td>\n",
       "      <td>168</td>\n",
       "      <td>224</td>\n",
       "      <td>52</td>\n",
       "      <td>66</td>\n",
       "      <td>126</td>\n",
       "      <td>197</td>\n",
       "      <td>NaN</td>\n",
       "      <td>404</td>\n",
       "      <td>11.0</td>\n",
       "      <td>40</td>\n",
       "      <td>57</td>\n",
       "      <td>328</td>\n",
       "      <td>172</td>\n",
       "      <td>22</td>\n",
       "      <td>227</td>\n",
       "      <td>3.0</td>\n",
       "    </tr>\n",
       "    <tr>\n",
       "      <th>4</th>\n",
       "      <td>Mao Ning</td>\n",
       "      <td>157</td>\n",
       "      <td>220</td>\n",
       "      <td>53</td>\n",
       "      <td>81</td>\n",
       "      <td>91</td>\n",
       "      <td>175</td>\n",
       "      <td>NaN</td>\n",
       "      <td>387</td>\n",
       "      <td>13.0</td>\n",
       "      <td>30</td>\n",
       "      <td>67</td>\n",
       "      <td>194</td>\n",
       "      <td>147</td>\n",
       "      <td>19</td>\n",
       "      <td>204</td>\n",
       "      <td>1.0</td>\n",
       "    </tr>\n",
       "    <tr>\n",
       "      <th>5</th>\n",
       "      <td>Wang Wenbin</td>\n",
       "      <td>222</td>\n",
       "      <td>297</td>\n",
       "      <td>44</td>\n",
       "      <td>103</td>\n",
       "      <td>128</td>\n",
       "      <td>228</td>\n",
       "      <td>NaN</td>\n",
       "      <td>519</td>\n",
       "      <td>20.0</td>\n",
       "      <td>37</td>\n",
       "      <td>75</td>\n",
       "      <td>339</td>\n",
       "      <td>188</td>\n",
       "      <td>26</td>\n",
       "      <td>256</td>\n",
       "      <td>NaN</td>\n",
       "    </tr>\n",
       "    <tr>\n",
       "      <th>6</th>\n",
       "      <td>Wang Wenbin</td>\n",
       "      <td>118</td>\n",
       "      <td>141</td>\n",
       "      <td>40</td>\n",
       "      <td>58</td>\n",
       "      <td>59</td>\n",
       "      <td>124</td>\n",
       "      <td>NaN</td>\n",
       "      <td>258</td>\n",
       "      <td>1.0</td>\n",
       "      <td>34</td>\n",
       "      <td>56</td>\n",
       "      <td>160</td>\n",
       "      <td>98</td>\n",
       "      <td>22</td>\n",
       "      <td>155</td>\n",
       "      <td>NaN</td>\n",
       "    </tr>\n",
       "    <tr>\n",
       "      <th>7</th>\n",
       "      <td>Wang Wenbin</td>\n",
       "      <td>217</td>\n",
       "      <td>283</td>\n",
       "      <td>36</td>\n",
       "      <td>75</td>\n",
       "      <td>125</td>\n",
       "      <td>221</td>\n",
       "      <td>NaN</td>\n",
       "      <td>511</td>\n",
       "      <td>26.0</td>\n",
       "      <td>28</td>\n",
       "      <td>50</td>\n",
       "      <td>491</td>\n",
       "      <td>249</td>\n",
       "      <td>25</td>\n",
       "      <td>220</td>\n",
       "      <td>4.0</td>\n",
       "    </tr>\n",
       "    <tr>\n",
       "      <th>8</th>\n",
       "      <td>Wang Wenbin</td>\n",
       "      <td>183</td>\n",
       "      <td>219</td>\n",
       "      <td>49</td>\n",
       "      <td>72</td>\n",
       "      <td>97</td>\n",
       "      <td>171</td>\n",
       "      <td>NaN</td>\n",
       "      <td>368</td>\n",
       "      <td>2.0</td>\n",
       "      <td>42</td>\n",
       "      <td>72</td>\n",
       "      <td>257</td>\n",
       "      <td>149</td>\n",
       "      <td>26</td>\n",
       "      <td>213</td>\n",
       "      <td>NaN</td>\n",
       "    </tr>\n",
       "    <tr>\n",
       "      <th>9</th>\n",
       "      <td>Wang Wenbin</td>\n",
       "      <td>182</td>\n",
       "      <td>254</td>\n",
       "      <td>66</td>\n",
       "      <td>104</td>\n",
       "      <td>138</td>\n",
       "      <td>263</td>\n",
       "      <td>NaN</td>\n",
       "      <td>468</td>\n",
       "      <td>22.0</td>\n",
       "      <td>45</td>\n",
       "      <td>92</td>\n",
       "      <td>363</td>\n",
       "      <td>157</td>\n",
       "      <td>16</td>\n",
       "      <td>250</td>\n",
       "      <td>5.0</td>\n",
       "    </tr>\n",
       "    <tr>\n",
       "      <th>10</th>\n",
       "      <td>Mao Ning</td>\n",
       "      <td>233</td>\n",
       "      <td>231</td>\n",
       "      <td>43</td>\n",
       "      <td>63</td>\n",
       "      <td>121</td>\n",
       "      <td>222</td>\n",
       "      <td>NaN</td>\n",
       "      <td>489</td>\n",
       "      <td>33.0</td>\n",
       "      <td>27</td>\n",
       "      <td>64</td>\n",
       "      <td>315</td>\n",
       "      <td>161</td>\n",
       "      <td>16</td>\n",
       "      <td>213</td>\n",
       "      <td>2.0</td>\n",
       "    </tr>\n",
       "    <tr>\n",
       "      <th>11</th>\n",
       "      <td>Mao Ning</td>\n",
       "      <td>116</td>\n",
       "      <td>154</td>\n",
       "      <td>36</td>\n",
       "      <td>57</td>\n",
       "      <td>59</td>\n",
       "      <td>139</td>\n",
       "      <td>NaN</td>\n",
       "      <td>276</td>\n",
       "      <td>7.0</td>\n",
       "      <td>17</td>\n",
       "      <td>40</td>\n",
       "      <td>234</td>\n",
       "      <td>117</td>\n",
       "      <td>18</td>\n",
       "      <td>163</td>\n",
       "      <td>3.0</td>\n",
       "    </tr>\n",
       "    <tr>\n",
       "      <th>12</th>\n",
       "      <td>Mao Ning</td>\n",
       "      <td>242</td>\n",
       "      <td>293</td>\n",
       "      <td>74</td>\n",
       "      <td>95</td>\n",
       "      <td>138</td>\n",
       "      <td>259</td>\n",
       "      <td>NaN</td>\n",
       "      <td>516</td>\n",
       "      <td>19.0</td>\n",
       "      <td>40</td>\n",
       "      <td>100</td>\n",
       "      <td>393</td>\n",
       "      <td>203</td>\n",
       "      <td>22</td>\n",
       "      <td>269</td>\n",
       "      <td>NaN</td>\n",
       "    </tr>\n",
       "    <tr>\n",
       "      <th>13</th>\n",
       "      <td>Mao Ning</td>\n",
       "      <td>65</td>\n",
       "      <td>85</td>\n",
       "      <td>25</td>\n",
       "      <td>36</td>\n",
       "      <td>44</td>\n",
       "      <td>66</td>\n",
       "      <td>1.0</td>\n",
       "      <td>171</td>\n",
       "      <td>4.0</td>\n",
       "      <td>20</td>\n",
       "      <td>34</td>\n",
       "      <td>163</td>\n",
       "      <td>64</td>\n",
       "      <td>14</td>\n",
       "      <td>94</td>\n",
       "      <td>NaN</td>\n",
       "    </tr>\n",
       "    <tr>\n",
       "      <th>14</th>\n",
       "      <td>Mao Ning</td>\n",
       "      <td>322</td>\n",
       "      <td>375</td>\n",
       "      <td>77</td>\n",
       "      <td>132</td>\n",
       "      <td>189</td>\n",
       "      <td>317</td>\n",
       "      <td>1.0</td>\n",
       "      <td>659</td>\n",
       "      <td>11.0</td>\n",
       "      <td>68</td>\n",
       "      <td>114</td>\n",
       "      <td>486</td>\n",
       "      <td>254</td>\n",
       "      <td>33</td>\n",
       "      <td>387</td>\n",
       "      <td>1.0</td>\n",
       "    </tr>\n",
       "    <tr>\n",
       "      <th>15</th>\n",
       "      <td>Wang Wenbin</td>\n",
       "      <td>338</td>\n",
       "      <td>395</td>\n",
       "      <td>119</td>\n",
       "      <td>124</td>\n",
       "      <td>199</td>\n",
       "      <td>335</td>\n",
       "      <td>1.0</td>\n",
       "      <td>768</td>\n",
       "      <td>23.0</td>\n",
       "      <td>79</td>\n",
       "      <td>99</td>\n",
       "      <td>481</td>\n",
       "      <td>313</td>\n",
       "      <td>33</td>\n",
       "      <td>389</td>\n",
       "      <td>3.0</td>\n",
       "    </tr>\n",
       "    <tr>\n",
       "      <th>16</th>\n",
       "      <td>Wang Wenbin</td>\n",
       "      <td>273</td>\n",
       "      <td>318</td>\n",
       "      <td>62</td>\n",
       "      <td>104</td>\n",
       "      <td>164</td>\n",
       "      <td>266</td>\n",
       "      <td>2.0</td>\n",
       "      <td>618</td>\n",
       "      <td>31.0</td>\n",
       "      <td>52</td>\n",
       "      <td>90</td>\n",
       "      <td>380</td>\n",
       "      <td>243</td>\n",
       "      <td>30</td>\n",
       "      <td>287</td>\n",
       "      <td>4.0</td>\n",
       "    </tr>\n",
       "    <tr>\n",
       "      <th>17</th>\n",
       "      <td>Wang Wenbin</td>\n",
       "      <td>204</td>\n",
       "      <td>312</td>\n",
       "      <td>45</td>\n",
       "      <td>89</td>\n",
       "      <td>107</td>\n",
       "      <td>245</td>\n",
       "      <td>NaN</td>\n",
       "      <td>498</td>\n",
       "      <td>17.0</td>\n",
       "      <td>40</td>\n",
       "      <td>76</td>\n",
       "      <td>385</td>\n",
       "      <td>187</td>\n",
       "      <td>28</td>\n",
       "      <td>238</td>\n",
       "      <td>4.0</td>\n",
       "    </tr>\n",
       "    <tr>\n",
       "      <th>18</th>\n",
       "      <td>Wang Wenbin</td>\n",
       "      <td>71</td>\n",
       "      <td>119</td>\n",
       "      <td>27</td>\n",
       "      <td>43</td>\n",
       "      <td>31</td>\n",
       "      <td>97</td>\n",
       "      <td>NaN</td>\n",
       "      <td>198</td>\n",
       "      <td>4.0</td>\n",
       "      <td>23</td>\n",
       "      <td>38</td>\n",
       "      <td>133</td>\n",
       "      <td>88</td>\n",
       "      <td>11</td>\n",
       "      <td>102</td>\n",
       "      <td>NaN</td>\n",
       "    </tr>\n",
       "    <tr>\n",
       "      <th>19</th>\n",
       "      <td>Wang Wenbin</td>\n",
       "      <td>253</td>\n",
       "      <td>356</td>\n",
       "      <td>73</td>\n",
       "      <td>112</td>\n",
       "      <td>158</td>\n",
       "      <td>285</td>\n",
       "      <td>NaN</td>\n",
       "      <td>566</td>\n",
       "      <td>18.0</td>\n",
       "      <td>38</td>\n",
       "      <td>98</td>\n",
       "      <td>543</td>\n",
       "      <td>241</td>\n",
       "      <td>36</td>\n",
       "      <td>308</td>\n",
       "      <td>4.0</td>\n",
       "    </tr>\n",
       "    <tr>\n",
       "      <th>20</th>\n",
       "      <td>Wang Wenbin</td>\n",
       "      <td>132</td>\n",
       "      <td>178</td>\n",
       "      <td>21</td>\n",
       "      <td>61</td>\n",
       "      <td>79</td>\n",
       "      <td>136</td>\n",
       "      <td>NaN</td>\n",
       "      <td>303</td>\n",
       "      <td>9.0</td>\n",
       "      <td>26</td>\n",
       "      <td>46</td>\n",
       "      <td>190</td>\n",
       "      <td>121</td>\n",
       "      <td>16</td>\n",
       "      <td>157</td>\n",
       "      <td>1.0</td>\n",
       "    </tr>\n",
       "  </tbody>\n",
       "</table>\n",
       "</div>"
      ],
      "text/plain": [
       "      Spokesman  ADJ  ADP  ADV  AUX  CCONJ  DET  INTJ  NOUN   NUM  PART  PRON  \\\n",
       "0      Mao Ning  262  319   80  107    137  237   2.0   519   4.0    43   133   \n",
       "1      Mao Ning   55   60   15   14     33   42   NaN   111   NaN    10    15   \n",
       "2      Mao Ning   80   98   17   28     50   65   NaN   176   7.0     8    21   \n",
       "3      Mao Ning  168  224   52   66    126  197   NaN   404  11.0    40    57   \n",
       "4      Mao Ning  157  220   53   81     91  175   NaN   387  13.0    30    67   \n",
       "5   Wang Wenbin  222  297   44  103    128  228   NaN   519  20.0    37    75   \n",
       "6   Wang Wenbin  118  141   40   58     59  124   NaN   258   1.0    34    56   \n",
       "7   Wang Wenbin  217  283   36   75    125  221   NaN   511  26.0    28    50   \n",
       "8   Wang Wenbin  183  219   49   72     97  171   NaN   368   2.0    42    72   \n",
       "9   Wang Wenbin  182  254   66  104    138  263   NaN   468  22.0    45    92   \n",
       "10     Mao Ning  233  231   43   63    121  222   NaN   489  33.0    27    64   \n",
       "11     Mao Ning  116  154   36   57     59  139   NaN   276   7.0    17    40   \n",
       "12     Mao Ning  242  293   74   95    138  259   NaN   516  19.0    40   100   \n",
       "13     Mao Ning   65   85   25   36     44   66   1.0   171   4.0    20    34   \n",
       "14     Mao Ning  322  375   77  132    189  317   1.0   659  11.0    68   114   \n",
       "15  Wang Wenbin  338  395  119  124    199  335   1.0   768  23.0    79    99   \n",
       "16  Wang Wenbin  273  318   62  104    164  266   2.0   618  31.0    52    90   \n",
       "17  Wang Wenbin  204  312   45   89    107  245   NaN   498  17.0    40    76   \n",
       "18  Wang Wenbin   71  119   27   43     31   97   NaN   198   4.0    23    38   \n",
       "19  Wang Wenbin  253  356   73  112    158  285   NaN   566  18.0    38    98   \n",
       "20  Wang Wenbin  132  178   21   61     79  136   NaN   303   9.0    26    46   \n",
       "\n",
       "    PROPN  PUNCT  SCONJ  VERB    X  \n",
       "0     348    230     34   293  3.0  \n",
       "1      68     37      4    60  NaN  \n",
       "2     114     64      3    73  4.0  \n",
       "3     328    172     22   227  3.0  \n",
       "4     194    147     19   204  1.0  \n",
       "5     339    188     26   256  NaN  \n",
       "6     160     98     22   155  NaN  \n",
       "7     491    249     25   220  4.0  \n",
       "8     257    149     26   213  NaN  \n",
       "9     363    157     16   250  5.0  \n",
       "10    315    161     16   213  2.0  \n",
       "11    234    117     18   163  3.0  \n",
       "12    393    203     22   269  NaN  \n",
       "13    163     64     14    94  NaN  \n",
       "14    486    254     33   387  1.0  \n",
       "15    481    313     33   389  3.0  \n",
       "16    380    243     30   287  4.0  \n",
       "17    385    187     28   238  4.0  \n",
       "18    133     88     11   102  NaN  \n",
       "19    543    241     36   308  4.0  \n",
       "20    190    121     16   157  1.0  "
      ]
     },
     "execution_count": 41,
     "metadata": {},
     "output_type": "execute_result"
    }
   ],
   "source": [
    "# Create new dataframe with part of speech counts\n",
    "pos_counts = pd.DataFrame(num_list)\n",
    "columns = list(pos_counts.columns)\n",
    "\n",
    "# Add discipline of each paper as new column to dataframe\n",
    "idx = 0\n",
    "new_col = pos_analysis_df['Spokesman']\n",
    "pos_counts.insert(loc=idx, column='Spokesman', value=new_col)\n",
    "\n",
    "pos_counts"
   ]
  },
  {
   "cell_type": "code",
   "execution_count": 42,
   "id": "0bc5463d",
   "metadata": {},
   "outputs": [
    {
     "data": {
      "text/html": [
       "<div>\n",
       "<style scoped>\n",
       "    .dataframe tbody tr th:only-of-type {\n",
       "        vertical-align: middle;\n",
       "    }\n",
       "\n",
       "    .dataframe tbody tr th {\n",
       "        vertical-align: top;\n",
       "    }\n",
       "\n",
       "    .dataframe thead th {\n",
       "        text-align: right;\n",
       "    }\n",
       "</style>\n",
       "<table border=\"1\" class=\"dataframe\">\n",
       "  <thead>\n",
       "    <tr style=\"text-align: right;\">\n",
       "      <th></th>\n",
       "      <th>Spokesman</th>\n",
       "      <th>ADJ</th>\n",
       "      <th>ADP</th>\n",
       "      <th>ADV</th>\n",
       "      <th>AUX</th>\n",
       "      <th>CCONJ</th>\n",
       "      <th>DET</th>\n",
       "      <th>INTJ</th>\n",
       "      <th>NOUN</th>\n",
       "      <th>NUM</th>\n",
       "      <th>PART</th>\n",
       "      <th>PRON</th>\n",
       "      <th>PROPN</th>\n",
       "      <th>PUNCT</th>\n",
       "      <th>SCONJ</th>\n",
       "      <th>VERB</th>\n",
       "      <th>X</th>\n",
       "    </tr>\n",
       "  </thead>\n",
       "  <tbody>\n",
       "    <tr>\n",
       "      <th>0</th>\n",
       "      <td>Mao Ning</td>\n",
       "      <td>170.0</td>\n",
       "      <td>206.0</td>\n",
       "      <td>47.0</td>\n",
       "      <td>68.0</td>\n",
       "      <td>99.0</td>\n",
       "      <td>172.0</td>\n",
       "      <td>1.0</td>\n",
       "      <td>371.0</td>\n",
       "      <td>12.0</td>\n",
       "      <td>30.0</td>\n",
       "      <td>64.0</td>\n",
       "      <td>264.0</td>\n",
       "      <td>145.0</td>\n",
       "      <td>18.0</td>\n",
       "      <td>198.0</td>\n",
       "      <td>2.0</td>\n",
       "    </tr>\n",
       "    <tr>\n",
       "      <th>1</th>\n",
       "      <td>Wang Wenbin</td>\n",
       "      <td>199.0</td>\n",
       "      <td>261.0</td>\n",
       "      <td>53.0</td>\n",
       "      <td>86.0</td>\n",
       "      <td>117.0</td>\n",
       "      <td>216.0</td>\n",
       "      <td>2.0</td>\n",
       "      <td>461.0</td>\n",
       "      <td>16.0</td>\n",
       "      <td>40.0</td>\n",
       "      <td>72.0</td>\n",
       "      <td>338.0</td>\n",
       "      <td>185.0</td>\n",
       "      <td>24.0</td>\n",
       "      <td>234.0</td>\n",
       "      <td>4.0</td>\n",
       "    </tr>\n",
       "  </tbody>\n",
       "</table>\n",
       "</div>"
      ],
      "text/plain": [
       "     Spokesman    ADJ    ADP   ADV   AUX  CCONJ    DET  INTJ   NOUN   NUM  \\\n",
       "0     Mao Ning  170.0  206.0  47.0  68.0   99.0  172.0   1.0  371.0  12.0   \n",
       "1  Wang Wenbin  199.0  261.0  53.0  86.0  117.0  216.0   2.0  461.0  16.0   \n",
       "\n",
       "   PART  PRON  PROPN  PUNCT  SCONJ   VERB    X  \n",
       "0  30.0  64.0  264.0  145.0   18.0  198.0  2.0  \n",
       "1  40.0  72.0  338.0  185.0   24.0  234.0  4.0  "
      ]
     },
     "execution_count": 42,
     "metadata": {},
     "output_type": "execute_result"
    }
   ],
   "source": [
    "# Get average part of speech counts used in papers of each discipline\n",
    "average_pos_df = pos_counts.groupby(['Spokesman']).mean()\n",
    "\n",
    "# Round calculations to the nearest whole number\n",
    "average_pos_df = average_pos_df.round(0)\n",
    "\n",
    "# Reset index to improve DataFrame readability\n",
    "average_pos_df = average_pos_df.reset_index()\n",
    "\n",
    "# Show dataframe\n",
    "average_pos_df"
   ]
  },
  {
   "cell_type": "markdown",
   "id": "436b258c",
   "metadata": {},
   "source": [
    "In the speech statistics for December, Wang Wenbing surpasses Mao Ning in various metrics. Even with an equal number of speeches, it is evident that Wang Wenbing utilizes a more diverse range of vocabulary and covers a broader range of topics."
   ]
  },
  {
   "cell_type": "code",
   "execution_count": 45,
   "id": "62bf82b8",
   "metadata": {},
   "outputs": [
    {
     "data": {
      "application/vnd.plotly.v1+json": {
       "config": {
        "plotlyServerURL": "https://plot.ly"
       },
       "data": [
        {
         "alignmentgroup": "True",
         "hovertemplate": "variable=ADJ<br>Spokesman=%{x}<br>value=%{y}<extra></extra>",
         "legendgroup": "ADJ",
         "marker": {
          "color": "#636efa",
          "pattern": {
           "shape": ""
          }
         },
         "name": "ADJ",
         "offsetgroup": "ADJ",
         "orientation": "v",
         "showlegend": true,
         "textposition": "auto",
         "type": "bar",
         "x": [
          "Mao Ning",
          "Wang Wenbin"
         ],
         "xaxis": "x",
         "y": [
          170,
          199
         ],
         "yaxis": "y"
        },
        {
         "alignmentgroup": "True",
         "hovertemplate": "variable=VERB<br>Spokesman=%{x}<br>value=%{y}<extra></extra>",
         "legendgroup": "VERB",
         "marker": {
          "color": "#EF553B",
          "pattern": {
           "shape": ""
          }
         },
         "name": "VERB",
         "offsetgroup": "VERB",
         "orientation": "v",
         "showlegend": true,
         "textposition": "auto",
         "type": "bar",
         "x": [
          "Mao Ning",
          "Wang Wenbin"
         ],
         "xaxis": "x",
         "y": [
          198,
          234
         ],
         "yaxis": "y"
        },
        {
         "alignmentgroup": "True",
         "hovertemplate": "variable=NUM<br>Spokesman=%{x}<br>value=%{y}<extra></extra>",
         "legendgroup": "NUM",
         "marker": {
          "color": "#00cc96",
          "pattern": {
           "shape": ""
          }
         },
         "name": "NUM",
         "offsetgroup": "NUM",
         "orientation": "v",
         "showlegend": true,
         "textposition": "auto",
         "type": "bar",
         "x": [
          "Mao Ning",
          "Wang Wenbin"
         ],
         "xaxis": "x",
         "y": [
          12,
          16
         ],
         "yaxis": "y"
        },
        {
         "alignmentgroup": "True",
         "hovertemplate": "variable=ADV<br>Spokesman=%{x}<br>value=%{y}<extra></extra>",
         "legendgroup": "ADV",
         "marker": {
          "color": "#ab63fa",
          "pattern": {
           "shape": ""
          }
         },
         "name": "ADV",
         "offsetgroup": "ADV",
         "orientation": "v",
         "showlegend": true,
         "textposition": "auto",
         "type": "bar",
         "x": [
          "Mao Ning",
          "Wang Wenbin"
         ],
         "xaxis": "x",
         "y": [
          47,
          53
         ],
         "yaxis": "y"
        }
       ],
       "layout": {
        "barmode": "group",
        "legend": {
         "title": {
          "text": "variable"
         },
         "tracegroupgap": 0
        },
        "template": {
         "data": {
          "bar": [
           {
            "error_x": {
             "color": "#2a3f5f"
            },
            "error_y": {
             "color": "#2a3f5f"
            },
            "marker": {
             "line": {
              "color": "#E5ECF6",
              "width": 0.5
             },
             "pattern": {
              "fillmode": "overlay",
              "size": 10,
              "solidity": 0.2
             }
            },
            "type": "bar"
           }
          ],
          "barpolar": [
           {
            "marker": {
             "line": {
              "color": "#E5ECF6",
              "width": 0.5
             },
             "pattern": {
              "fillmode": "overlay",
              "size": 10,
              "solidity": 0.2
             }
            },
            "type": "barpolar"
           }
          ],
          "carpet": [
           {
            "aaxis": {
             "endlinecolor": "#2a3f5f",
             "gridcolor": "white",
             "linecolor": "white",
             "minorgridcolor": "white",
             "startlinecolor": "#2a3f5f"
            },
            "baxis": {
             "endlinecolor": "#2a3f5f",
             "gridcolor": "white",
             "linecolor": "white",
             "minorgridcolor": "white",
             "startlinecolor": "#2a3f5f"
            },
            "type": "carpet"
           }
          ],
          "choropleth": [
           {
            "colorbar": {
             "outlinewidth": 0,
             "ticks": ""
            },
            "type": "choropleth"
           }
          ],
          "contour": [
           {
            "colorbar": {
             "outlinewidth": 0,
             "ticks": ""
            },
            "colorscale": [
             [
              0,
              "#0d0887"
             ],
             [
              0.1111111111111111,
              "#46039f"
             ],
             [
              0.2222222222222222,
              "#7201a8"
             ],
             [
              0.3333333333333333,
              "#9c179e"
             ],
             [
              0.4444444444444444,
              "#bd3786"
             ],
             [
              0.5555555555555556,
              "#d8576b"
             ],
             [
              0.6666666666666666,
              "#ed7953"
             ],
             [
              0.7777777777777778,
              "#fb9f3a"
             ],
             [
              0.8888888888888888,
              "#fdca26"
             ],
             [
              1,
              "#f0f921"
             ]
            ],
            "type": "contour"
           }
          ],
          "contourcarpet": [
           {
            "colorbar": {
             "outlinewidth": 0,
             "ticks": ""
            },
            "type": "contourcarpet"
           }
          ],
          "heatmap": [
           {
            "colorbar": {
             "outlinewidth": 0,
             "ticks": ""
            },
            "colorscale": [
             [
              0,
              "#0d0887"
             ],
             [
              0.1111111111111111,
              "#46039f"
             ],
             [
              0.2222222222222222,
              "#7201a8"
             ],
             [
              0.3333333333333333,
              "#9c179e"
             ],
             [
              0.4444444444444444,
              "#bd3786"
             ],
             [
              0.5555555555555556,
              "#d8576b"
             ],
             [
              0.6666666666666666,
              "#ed7953"
             ],
             [
              0.7777777777777778,
              "#fb9f3a"
             ],
             [
              0.8888888888888888,
              "#fdca26"
             ],
             [
              1,
              "#f0f921"
             ]
            ],
            "type": "heatmap"
           }
          ],
          "heatmapgl": [
           {
            "colorbar": {
             "outlinewidth": 0,
             "ticks": ""
            },
            "colorscale": [
             [
              0,
              "#0d0887"
             ],
             [
              0.1111111111111111,
              "#46039f"
             ],
             [
              0.2222222222222222,
              "#7201a8"
             ],
             [
              0.3333333333333333,
              "#9c179e"
             ],
             [
              0.4444444444444444,
              "#bd3786"
             ],
             [
              0.5555555555555556,
              "#d8576b"
             ],
             [
              0.6666666666666666,
              "#ed7953"
             ],
             [
              0.7777777777777778,
              "#fb9f3a"
             ],
             [
              0.8888888888888888,
              "#fdca26"
             ],
             [
              1,
              "#f0f921"
             ]
            ],
            "type": "heatmapgl"
           }
          ],
          "histogram": [
           {
            "marker": {
             "pattern": {
              "fillmode": "overlay",
              "size": 10,
              "solidity": 0.2
             }
            },
            "type": "histogram"
           }
          ],
          "histogram2d": [
           {
            "colorbar": {
             "outlinewidth": 0,
             "ticks": ""
            },
            "colorscale": [
             [
              0,
              "#0d0887"
             ],
             [
              0.1111111111111111,
              "#46039f"
             ],
             [
              0.2222222222222222,
              "#7201a8"
             ],
             [
              0.3333333333333333,
              "#9c179e"
             ],
             [
              0.4444444444444444,
              "#bd3786"
             ],
             [
              0.5555555555555556,
              "#d8576b"
             ],
             [
              0.6666666666666666,
              "#ed7953"
             ],
             [
              0.7777777777777778,
              "#fb9f3a"
             ],
             [
              0.8888888888888888,
              "#fdca26"
             ],
             [
              1,
              "#f0f921"
             ]
            ],
            "type": "histogram2d"
           }
          ],
          "histogram2dcontour": [
           {
            "colorbar": {
             "outlinewidth": 0,
             "ticks": ""
            },
            "colorscale": [
             [
              0,
              "#0d0887"
             ],
             [
              0.1111111111111111,
              "#46039f"
             ],
             [
              0.2222222222222222,
              "#7201a8"
             ],
             [
              0.3333333333333333,
              "#9c179e"
             ],
             [
              0.4444444444444444,
              "#bd3786"
             ],
             [
              0.5555555555555556,
              "#d8576b"
             ],
             [
              0.6666666666666666,
              "#ed7953"
             ],
             [
              0.7777777777777778,
              "#fb9f3a"
             ],
             [
              0.8888888888888888,
              "#fdca26"
             ],
             [
              1,
              "#f0f921"
             ]
            ],
            "type": "histogram2dcontour"
           }
          ],
          "mesh3d": [
           {
            "colorbar": {
             "outlinewidth": 0,
             "ticks": ""
            },
            "type": "mesh3d"
           }
          ],
          "parcoords": [
           {
            "line": {
             "colorbar": {
              "outlinewidth": 0,
              "ticks": ""
             }
            },
            "type": "parcoords"
           }
          ],
          "pie": [
           {
            "automargin": true,
            "type": "pie"
           }
          ],
          "scatter": [
           {
            "fillpattern": {
             "fillmode": "overlay",
             "size": 10,
             "solidity": 0.2
            },
            "type": "scatter"
           }
          ],
          "scatter3d": [
           {
            "line": {
             "colorbar": {
              "outlinewidth": 0,
              "ticks": ""
             }
            },
            "marker": {
             "colorbar": {
              "outlinewidth": 0,
              "ticks": ""
             }
            },
            "type": "scatter3d"
           }
          ],
          "scattercarpet": [
           {
            "marker": {
             "colorbar": {
              "outlinewidth": 0,
              "ticks": ""
             }
            },
            "type": "scattercarpet"
           }
          ],
          "scattergeo": [
           {
            "marker": {
             "colorbar": {
              "outlinewidth": 0,
              "ticks": ""
             }
            },
            "type": "scattergeo"
           }
          ],
          "scattergl": [
           {
            "marker": {
             "colorbar": {
              "outlinewidth": 0,
              "ticks": ""
             }
            },
            "type": "scattergl"
           }
          ],
          "scattermapbox": [
           {
            "marker": {
             "colorbar": {
              "outlinewidth": 0,
              "ticks": ""
             }
            },
            "type": "scattermapbox"
           }
          ],
          "scatterpolar": [
           {
            "marker": {
             "colorbar": {
              "outlinewidth": 0,
              "ticks": ""
             }
            },
            "type": "scatterpolar"
           }
          ],
          "scatterpolargl": [
           {
            "marker": {
             "colorbar": {
              "outlinewidth": 0,
              "ticks": ""
             }
            },
            "type": "scatterpolargl"
           }
          ],
          "scatterternary": [
           {
            "marker": {
             "colorbar": {
              "outlinewidth": 0,
              "ticks": ""
             }
            },
            "type": "scatterternary"
           }
          ],
          "surface": [
           {
            "colorbar": {
             "outlinewidth": 0,
             "ticks": ""
            },
            "colorscale": [
             [
              0,
              "#0d0887"
             ],
             [
              0.1111111111111111,
              "#46039f"
             ],
             [
              0.2222222222222222,
              "#7201a8"
             ],
             [
              0.3333333333333333,
              "#9c179e"
             ],
             [
              0.4444444444444444,
              "#bd3786"
             ],
             [
              0.5555555555555556,
              "#d8576b"
             ],
             [
              0.6666666666666666,
              "#ed7953"
             ],
             [
              0.7777777777777778,
              "#fb9f3a"
             ],
             [
              0.8888888888888888,
              "#fdca26"
             ],
             [
              1,
              "#f0f921"
             ]
            ],
            "type": "surface"
           }
          ],
          "table": [
           {
            "cells": {
             "fill": {
              "color": "#EBF0F8"
             },
             "line": {
              "color": "white"
             }
            },
            "header": {
             "fill": {
              "color": "#C8D4E3"
             },
             "line": {
              "color": "white"
             }
            },
            "type": "table"
           }
          ]
         },
         "layout": {
          "annotationdefaults": {
           "arrowcolor": "#2a3f5f",
           "arrowhead": 0,
           "arrowwidth": 1
          },
          "autotypenumbers": "strict",
          "coloraxis": {
           "colorbar": {
            "outlinewidth": 0,
            "ticks": ""
           }
          },
          "colorscale": {
           "diverging": [
            [
             0,
             "#8e0152"
            ],
            [
             0.1,
             "#c51b7d"
            ],
            [
             0.2,
             "#de77ae"
            ],
            [
             0.3,
             "#f1b6da"
            ],
            [
             0.4,
             "#fde0ef"
            ],
            [
             0.5,
             "#f7f7f7"
            ],
            [
             0.6,
             "#e6f5d0"
            ],
            [
             0.7,
             "#b8e186"
            ],
            [
             0.8,
             "#7fbc41"
            ],
            [
             0.9,
             "#4d9221"
            ],
            [
             1,
             "#276419"
            ]
           ],
           "sequential": [
            [
             0,
             "#0d0887"
            ],
            [
             0.1111111111111111,
             "#46039f"
            ],
            [
             0.2222222222222222,
             "#7201a8"
            ],
            [
             0.3333333333333333,
             "#9c179e"
            ],
            [
             0.4444444444444444,
             "#bd3786"
            ],
            [
             0.5555555555555556,
             "#d8576b"
            ],
            [
             0.6666666666666666,
             "#ed7953"
            ],
            [
             0.7777777777777778,
             "#fb9f3a"
            ],
            [
             0.8888888888888888,
             "#fdca26"
            ],
            [
             1,
             "#f0f921"
            ]
           ],
           "sequentialminus": [
            [
             0,
             "#0d0887"
            ],
            [
             0.1111111111111111,
             "#46039f"
            ],
            [
             0.2222222222222222,
             "#7201a8"
            ],
            [
             0.3333333333333333,
             "#9c179e"
            ],
            [
             0.4444444444444444,
             "#bd3786"
            ],
            [
             0.5555555555555556,
             "#d8576b"
            ],
            [
             0.6666666666666666,
             "#ed7953"
            ],
            [
             0.7777777777777778,
             "#fb9f3a"
            ],
            [
             0.8888888888888888,
             "#fdca26"
            ],
            [
             1,
             "#f0f921"
            ]
           ]
          },
          "colorway": [
           "#636efa",
           "#EF553B",
           "#00cc96",
           "#ab63fa",
           "#FFA15A",
           "#19d3f3",
           "#FF6692",
           "#B6E880",
           "#FF97FF",
           "#FECB52"
          ],
          "font": {
           "color": "#2a3f5f"
          },
          "geo": {
           "bgcolor": "white",
           "lakecolor": "white",
           "landcolor": "#E5ECF6",
           "showlakes": true,
           "showland": true,
           "subunitcolor": "white"
          },
          "hoverlabel": {
           "align": "left"
          },
          "hovermode": "closest",
          "mapbox": {
           "style": "light"
          },
          "paper_bgcolor": "white",
          "plot_bgcolor": "#E5ECF6",
          "polar": {
           "angularaxis": {
            "gridcolor": "white",
            "linecolor": "white",
            "ticks": ""
           },
           "bgcolor": "#E5ECF6",
           "radialaxis": {
            "gridcolor": "white",
            "linecolor": "white",
            "ticks": ""
           }
          },
          "scene": {
           "xaxis": {
            "backgroundcolor": "#E5ECF6",
            "gridcolor": "white",
            "gridwidth": 2,
            "linecolor": "white",
            "showbackground": true,
            "ticks": "",
            "zerolinecolor": "white"
           },
           "yaxis": {
            "backgroundcolor": "#E5ECF6",
            "gridcolor": "white",
            "gridwidth": 2,
            "linecolor": "white",
            "showbackground": true,
            "ticks": "",
            "zerolinecolor": "white"
           },
           "zaxis": {
            "backgroundcolor": "#E5ECF6",
            "gridcolor": "white",
            "gridwidth": 2,
            "linecolor": "white",
            "showbackground": true,
            "ticks": "",
            "zerolinecolor": "white"
           }
          },
          "shapedefaults": {
           "line": {
            "color": "#2a3f5f"
           }
          },
          "ternary": {
           "aaxis": {
            "gridcolor": "white",
            "linecolor": "white",
            "ticks": ""
           },
           "baxis": {
            "gridcolor": "white",
            "linecolor": "white",
            "ticks": ""
           },
           "bgcolor": "#E5ECF6",
           "caxis": {
            "gridcolor": "white",
            "linecolor": "white",
            "ticks": ""
           }
          },
          "title": {
           "x": 0.05
          },
          "xaxis": {
           "automargin": true,
           "gridcolor": "white",
           "linecolor": "white",
           "ticks": "",
           "title": {
            "standoff": 15
           },
           "zerolinecolor": "white",
           "zerolinewidth": 2
          },
          "yaxis": {
           "automargin": true,
           "gridcolor": "white",
           "linecolor": "white",
           "ticks": "",
           "title": {
            "standoff": 15
           },
           "zerolinecolor": "white",
           "zerolinewidth": 2
          }
         }
        },
        "title": {
         "text": "Average Part-of-Speech Use in Papers Written by Biology and English Students"
        },
        "xaxis": {
         "anchor": "y",
         "domain": [
          0,
          1
         ],
         "title": {
          "text": "Spokesman"
         }
        },
        "yaxis": {
         "anchor": "x",
         "domain": [
          0,
          1
         ],
         "title": {
          "text": "value"
         }
        }
       }
      },
      "text/html": [
       "<div>                            <div id=\"374b8e4f-3e72-4737-bafc-be79e9028a9b\" class=\"plotly-graph-div\" style=\"height:525px; width:100%;\"></div>            <script type=\"text/javascript\">                require([\"plotly\"], function(Plotly) {                    window.PLOTLYENV=window.PLOTLYENV || {};                                    if (document.getElementById(\"374b8e4f-3e72-4737-bafc-be79e9028a9b\")) {                    Plotly.newPlot(                        \"374b8e4f-3e72-4737-bafc-be79e9028a9b\",                        [{\"alignmentgroup\":\"True\",\"hovertemplate\":\"variable=ADJ<br>Spokesman=%{x}<br>value=%{y}<extra></extra>\",\"legendgroup\":\"ADJ\",\"marker\":{\"color\":\"#636efa\",\"pattern\":{\"shape\":\"\"}},\"name\":\"ADJ\",\"offsetgroup\":\"ADJ\",\"orientation\":\"v\",\"showlegend\":true,\"textposition\":\"auto\",\"x\":[\"Mao Ning\",\"Wang Wenbin\"],\"xaxis\":\"x\",\"y\":[170.0,199.0],\"yaxis\":\"y\",\"type\":\"bar\"},{\"alignmentgroup\":\"True\",\"hovertemplate\":\"variable=VERB<br>Spokesman=%{x}<br>value=%{y}<extra></extra>\",\"legendgroup\":\"VERB\",\"marker\":{\"color\":\"#EF553B\",\"pattern\":{\"shape\":\"\"}},\"name\":\"VERB\",\"offsetgroup\":\"VERB\",\"orientation\":\"v\",\"showlegend\":true,\"textposition\":\"auto\",\"x\":[\"Mao Ning\",\"Wang Wenbin\"],\"xaxis\":\"x\",\"y\":[198.0,234.0],\"yaxis\":\"y\",\"type\":\"bar\"},{\"alignmentgroup\":\"True\",\"hovertemplate\":\"variable=NUM<br>Spokesman=%{x}<br>value=%{y}<extra></extra>\",\"legendgroup\":\"NUM\",\"marker\":{\"color\":\"#00cc96\",\"pattern\":{\"shape\":\"\"}},\"name\":\"NUM\",\"offsetgroup\":\"NUM\",\"orientation\":\"v\",\"showlegend\":true,\"textposition\":\"auto\",\"x\":[\"Mao Ning\",\"Wang Wenbin\"],\"xaxis\":\"x\",\"y\":[12.0,16.0],\"yaxis\":\"y\",\"type\":\"bar\"},{\"alignmentgroup\":\"True\",\"hovertemplate\":\"variable=ADV<br>Spokesman=%{x}<br>value=%{y}<extra></extra>\",\"legendgroup\":\"ADV\",\"marker\":{\"color\":\"#ab63fa\",\"pattern\":{\"shape\":\"\"}},\"name\":\"ADV\",\"offsetgroup\":\"ADV\",\"orientation\":\"v\",\"showlegend\":true,\"textposition\":\"auto\",\"x\":[\"Mao Ning\",\"Wang Wenbin\"],\"xaxis\":\"x\",\"y\":[47.0,53.0],\"yaxis\":\"y\",\"type\":\"bar\"}],                        {\"template\":{\"data\":{\"histogram2dcontour\":[{\"type\":\"histogram2dcontour\",\"colorbar\":{\"outlinewidth\":0,\"ticks\":\"\"},\"colorscale\":[[0.0,\"#0d0887\"],[0.1111111111111111,\"#46039f\"],[0.2222222222222222,\"#7201a8\"],[0.3333333333333333,\"#9c179e\"],[0.4444444444444444,\"#bd3786\"],[0.5555555555555556,\"#d8576b\"],[0.6666666666666666,\"#ed7953\"],[0.7777777777777778,\"#fb9f3a\"],[0.8888888888888888,\"#fdca26\"],[1.0,\"#f0f921\"]]}],\"choropleth\":[{\"type\":\"choropleth\",\"colorbar\":{\"outlinewidth\":0,\"ticks\":\"\"}}],\"histogram2d\":[{\"type\":\"histogram2d\",\"colorbar\":{\"outlinewidth\":0,\"ticks\":\"\"},\"colorscale\":[[0.0,\"#0d0887\"],[0.1111111111111111,\"#46039f\"],[0.2222222222222222,\"#7201a8\"],[0.3333333333333333,\"#9c179e\"],[0.4444444444444444,\"#bd3786\"],[0.5555555555555556,\"#d8576b\"],[0.6666666666666666,\"#ed7953\"],[0.7777777777777778,\"#fb9f3a\"],[0.8888888888888888,\"#fdca26\"],[1.0,\"#f0f921\"]]}],\"heatmap\":[{\"type\":\"heatmap\",\"colorbar\":{\"outlinewidth\":0,\"ticks\":\"\"},\"colorscale\":[[0.0,\"#0d0887\"],[0.1111111111111111,\"#46039f\"],[0.2222222222222222,\"#7201a8\"],[0.3333333333333333,\"#9c179e\"],[0.4444444444444444,\"#bd3786\"],[0.5555555555555556,\"#d8576b\"],[0.6666666666666666,\"#ed7953\"],[0.7777777777777778,\"#fb9f3a\"],[0.8888888888888888,\"#fdca26\"],[1.0,\"#f0f921\"]]}],\"heatmapgl\":[{\"type\":\"heatmapgl\",\"colorbar\":{\"outlinewidth\":0,\"ticks\":\"\"},\"colorscale\":[[0.0,\"#0d0887\"],[0.1111111111111111,\"#46039f\"],[0.2222222222222222,\"#7201a8\"],[0.3333333333333333,\"#9c179e\"],[0.4444444444444444,\"#bd3786\"],[0.5555555555555556,\"#d8576b\"],[0.6666666666666666,\"#ed7953\"],[0.7777777777777778,\"#fb9f3a\"],[0.8888888888888888,\"#fdca26\"],[1.0,\"#f0f921\"]]}],\"contourcarpet\":[{\"type\":\"contourcarpet\",\"colorbar\":{\"outlinewidth\":0,\"ticks\":\"\"}}],\"contour\":[{\"type\":\"contour\",\"colorbar\":{\"outlinewidth\":0,\"ticks\":\"\"},\"colorscale\":[[0.0,\"#0d0887\"],[0.1111111111111111,\"#46039f\"],[0.2222222222222222,\"#7201a8\"],[0.3333333333333333,\"#9c179e\"],[0.4444444444444444,\"#bd3786\"],[0.5555555555555556,\"#d8576b\"],[0.6666666666666666,\"#ed7953\"],[0.7777777777777778,\"#fb9f3a\"],[0.8888888888888888,\"#fdca26\"],[1.0,\"#f0f921\"]]}],\"surface\":[{\"type\":\"surface\",\"colorbar\":{\"outlinewidth\":0,\"ticks\":\"\"},\"colorscale\":[[0.0,\"#0d0887\"],[0.1111111111111111,\"#46039f\"],[0.2222222222222222,\"#7201a8\"],[0.3333333333333333,\"#9c179e\"],[0.4444444444444444,\"#bd3786\"],[0.5555555555555556,\"#d8576b\"],[0.6666666666666666,\"#ed7953\"],[0.7777777777777778,\"#fb9f3a\"],[0.8888888888888888,\"#fdca26\"],[1.0,\"#f0f921\"]]}],\"mesh3d\":[{\"type\":\"mesh3d\",\"colorbar\":{\"outlinewidth\":0,\"ticks\":\"\"}}],\"scatter\":[{\"fillpattern\":{\"fillmode\":\"overlay\",\"size\":10,\"solidity\":0.2},\"type\":\"scatter\"}],\"parcoords\":[{\"type\":\"parcoords\",\"line\":{\"colorbar\":{\"outlinewidth\":0,\"ticks\":\"\"}}}],\"scatterpolargl\":[{\"type\":\"scatterpolargl\",\"marker\":{\"colorbar\":{\"outlinewidth\":0,\"ticks\":\"\"}}}],\"bar\":[{\"error_x\":{\"color\":\"#2a3f5f\"},\"error_y\":{\"color\":\"#2a3f5f\"},\"marker\":{\"line\":{\"color\":\"#E5ECF6\",\"width\":0.5},\"pattern\":{\"fillmode\":\"overlay\",\"size\":10,\"solidity\":0.2}},\"type\":\"bar\"}],\"scattergeo\":[{\"type\":\"scattergeo\",\"marker\":{\"colorbar\":{\"outlinewidth\":0,\"ticks\":\"\"}}}],\"scatterpolar\":[{\"type\":\"scatterpolar\",\"marker\":{\"colorbar\":{\"outlinewidth\":0,\"ticks\":\"\"}}}],\"histogram\":[{\"marker\":{\"pattern\":{\"fillmode\":\"overlay\",\"size\":10,\"solidity\":0.2}},\"type\":\"histogram\"}],\"scattergl\":[{\"type\":\"scattergl\",\"marker\":{\"colorbar\":{\"outlinewidth\":0,\"ticks\":\"\"}}}],\"scatter3d\":[{\"type\":\"scatter3d\",\"line\":{\"colorbar\":{\"outlinewidth\":0,\"ticks\":\"\"}},\"marker\":{\"colorbar\":{\"outlinewidth\":0,\"ticks\":\"\"}}}],\"scattermapbox\":[{\"type\":\"scattermapbox\",\"marker\":{\"colorbar\":{\"outlinewidth\":0,\"ticks\":\"\"}}}],\"scatterternary\":[{\"type\":\"scatterternary\",\"marker\":{\"colorbar\":{\"outlinewidth\":0,\"ticks\":\"\"}}}],\"scattercarpet\":[{\"type\":\"scattercarpet\",\"marker\":{\"colorbar\":{\"outlinewidth\":0,\"ticks\":\"\"}}}],\"carpet\":[{\"aaxis\":{\"endlinecolor\":\"#2a3f5f\",\"gridcolor\":\"white\",\"linecolor\":\"white\",\"minorgridcolor\":\"white\",\"startlinecolor\":\"#2a3f5f\"},\"baxis\":{\"endlinecolor\":\"#2a3f5f\",\"gridcolor\":\"white\",\"linecolor\":\"white\",\"minorgridcolor\":\"white\",\"startlinecolor\":\"#2a3f5f\"},\"type\":\"carpet\"}],\"table\":[{\"cells\":{\"fill\":{\"color\":\"#EBF0F8\"},\"line\":{\"color\":\"white\"}},\"header\":{\"fill\":{\"color\":\"#C8D4E3\"},\"line\":{\"color\":\"white\"}},\"type\":\"table\"}],\"barpolar\":[{\"marker\":{\"line\":{\"color\":\"#E5ECF6\",\"width\":0.5},\"pattern\":{\"fillmode\":\"overlay\",\"size\":10,\"solidity\":0.2}},\"type\":\"barpolar\"}],\"pie\":[{\"automargin\":true,\"type\":\"pie\"}]},\"layout\":{\"autotypenumbers\":\"strict\",\"colorway\":[\"#636efa\",\"#EF553B\",\"#00cc96\",\"#ab63fa\",\"#FFA15A\",\"#19d3f3\",\"#FF6692\",\"#B6E880\",\"#FF97FF\",\"#FECB52\"],\"font\":{\"color\":\"#2a3f5f\"},\"hovermode\":\"closest\",\"hoverlabel\":{\"align\":\"left\"},\"paper_bgcolor\":\"white\",\"plot_bgcolor\":\"#E5ECF6\",\"polar\":{\"bgcolor\":\"#E5ECF6\",\"angularaxis\":{\"gridcolor\":\"white\",\"linecolor\":\"white\",\"ticks\":\"\"},\"radialaxis\":{\"gridcolor\":\"white\",\"linecolor\":\"white\",\"ticks\":\"\"}},\"ternary\":{\"bgcolor\":\"#E5ECF6\",\"aaxis\":{\"gridcolor\":\"white\",\"linecolor\":\"white\",\"ticks\":\"\"},\"baxis\":{\"gridcolor\":\"white\",\"linecolor\":\"white\",\"ticks\":\"\"},\"caxis\":{\"gridcolor\":\"white\",\"linecolor\":\"white\",\"ticks\":\"\"}},\"coloraxis\":{\"colorbar\":{\"outlinewidth\":0,\"ticks\":\"\"}},\"colorscale\":{\"sequential\":[[0.0,\"#0d0887\"],[0.1111111111111111,\"#46039f\"],[0.2222222222222222,\"#7201a8\"],[0.3333333333333333,\"#9c179e\"],[0.4444444444444444,\"#bd3786\"],[0.5555555555555556,\"#d8576b\"],[0.6666666666666666,\"#ed7953\"],[0.7777777777777778,\"#fb9f3a\"],[0.8888888888888888,\"#fdca26\"],[1.0,\"#f0f921\"]],\"sequentialminus\":[[0.0,\"#0d0887\"],[0.1111111111111111,\"#46039f\"],[0.2222222222222222,\"#7201a8\"],[0.3333333333333333,\"#9c179e\"],[0.4444444444444444,\"#bd3786\"],[0.5555555555555556,\"#d8576b\"],[0.6666666666666666,\"#ed7953\"],[0.7777777777777778,\"#fb9f3a\"],[0.8888888888888888,\"#fdca26\"],[1.0,\"#f0f921\"]],\"diverging\":[[0,\"#8e0152\"],[0.1,\"#c51b7d\"],[0.2,\"#de77ae\"],[0.3,\"#f1b6da\"],[0.4,\"#fde0ef\"],[0.5,\"#f7f7f7\"],[0.6,\"#e6f5d0\"],[0.7,\"#b8e186\"],[0.8,\"#7fbc41\"],[0.9,\"#4d9221\"],[1,\"#276419\"]]},\"xaxis\":{\"gridcolor\":\"white\",\"linecolor\":\"white\",\"ticks\":\"\",\"title\":{\"standoff\":15},\"zerolinecolor\":\"white\",\"automargin\":true,\"zerolinewidth\":2},\"yaxis\":{\"gridcolor\":\"white\",\"linecolor\":\"white\",\"ticks\":\"\",\"title\":{\"standoff\":15},\"zerolinecolor\":\"white\",\"automargin\":true,\"zerolinewidth\":2},\"scene\":{\"xaxis\":{\"backgroundcolor\":\"#E5ECF6\",\"gridcolor\":\"white\",\"linecolor\":\"white\",\"showbackground\":true,\"ticks\":\"\",\"zerolinecolor\":\"white\",\"gridwidth\":2},\"yaxis\":{\"backgroundcolor\":\"#E5ECF6\",\"gridcolor\":\"white\",\"linecolor\":\"white\",\"showbackground\":true,\"ticks\":\"\",\"zerolinecolor\":\"white\",\"gridwidth\":2},\"zaxis\":{\"backgroundcolor\":\"#E5ECF6\",\"gridcolor\":\"white\",\"linecolor\":\"white\",\"showbackground\":true,\"ticks\":\"\",\"zerolinecolor\":\"white\",\"gridwidth\":2}},\"shapedefaults\":{\"line\":{\"color\":\"#2a3f5f\"}},\"annotationdefaults\":{\"arrowcolor\":\"#2a3f5f\",\"arrowhead\":0,\"arrowwidth\":1},\"geo\":{\"bgcolor\":\"white\",\"landcolor\":\"#E5ECF6\",\"subunitcolor\":\"white\",\"showland\":true,\"showlakes\":true,\"lakecolor\":\"white\"},\"title\":{\"x\":0.05},\"mapbox\":{\"style\":\"light\"}}},\"xaxis\":{\"anchor\":\"y\",\"domain\":[0.0,1.0],\"title\":{\"text\":\"Spokesman\"}},\"yaxis\":{\"anchor\":\"x\",\"domain\":[0.0,1.0],\"title\":{\"text\":\"value\"}},\"legend\":{\"title\":{\"text\":\"variable\"},\"tracegroupgap\":0},\"title\":{\"text\":\"Average Part-of-Speech Use in Papers Written by Biology and English Students\"},\"barmode\":\"group\"},                        {\"responsive\": true}                    ).then(function(){\n",
       "                            \n",
       "var gd = document.getElementById('374b8e4f-3e72-4737-bafc-be79e9028a9b');\n",
       "var x = new MutationObserver(function (mutations, observer) {{\n",
       "        var display = window.getComputedStyle(gd).display;\n",
       "        if (!display || display === 'none') {{\n",
       "            console.log([gd, 'removed!']);\n",
       "            Plotly.purge(gd);\n",
       "            observer.disconnect();\n",
       "        }}\n",
       "}});\n",
       "\n",
       "// Listen for the removal of the full notebook cells\n",
       "var notebookContainer = gd.closest('#notebook-container');\n",
       "if (notebookContainer) {{\n",
       "    x.observe(notebookContainer, {childList: true});\n",
       "}}\n",
       "\n",
       "// Listen for the clearing of the current output cell\n",
       "var outputEl = gd.closest('.output');\n",
       "if (outputEl) {{\n",
       "    x.observe(outputEl, {childList: true});\n",
       "}}\n",
       "\n",
       "                        })                };                });            </script>        </div>"
      ]
     },
     "metadata": {},
     "output_type": "display_data"
    }
   ],
   "source": [
    "# Use plotly to plot proper noun use per genre\n",
    "fig = px.bar(average_pos_df, x=\"Spokesman\", y=[\"ADJ\", 'VERB', \"NUM\",\"ADV\"], title=\"Average Part-of-Speech Use in Papers Written by Biology and English Students\", barmode='group')\n",
    "fig.show()"
   ]
  },
  {
   "cell_type": "markdown",
   "id": "92267945",
   "metadata": {},
   "source": [
    "According to data visualization, overall, there isn't a significant difference in the language preferences of the two spokespersons. Wang Wenbing, relatively speaking, tends to use more nouns and verbs. This contributes to more persuasive and robust speeches, which may be related to gender differences."
   ]
  },
  {
   "cell_type": "markdown",
   "id": "b1b468c2",
   "metadata": {},
   "source": [
    "# Analysis of GPE Named Entities"
   ]
  },
  {
   "cell_type": "markdown",
   "id": "f8e17807",
   "metadata": {},
   "source": [
    "# ❗️❗️Research question:  "
   ]
  },
  {
   "cell_type": "markdown",
   "id": "3a39c2c4",
   "metadata": {},
   "source": [
    "## In the December press briefings of the Ministry of Foreign Affairs, which country or region was mentioned the most?"
   ]
  },
  {
   "cell_type": "code",
   "execution_count": 44,
   "id": "3fe46dd8",
   "metadata": {},
   "outputs": [
    {
     "name": "stdout",
     "output_type": "stream",
     "text": [
      "America: 1\n",
      "China: 24\n",
      "Russia: 2\n",
      "San Francisco: 2\n",
      "Johannesburg: 1\n",
      "Beijing: 2\n",
      "Hanoi: 1\n",
      "Saudi Arabia: 1\n",
      "Iran: 1\n",
      "Ukraine: 4\n",
      "Palestine: 1\n",
      "US: 2\n",
      "the Peoples Republic of China: 1\n",
      "Chinas: 1\n",
      "UK: 1\n",
      "Hong Kong: 2\n",
      "Myanmar: 17\n",
      "Philippines: 6\n",
      "Laukkaing Township: 1\n",
      "Laukkaing: 3\n",
      "Kokang: 1\n"
     ]
    },
    {
     "name": "stderr",
     "output_type": "stream",
     "text": [
      "/Users/josiechen/anaconda3/lib/python3.11/site-packages/spacy/displacy/__init__.py:213: UserWarning:\n",
      "\n",
      "[W006] No entities to visualize found in Doc object. If this is surprising to you, make sure the Doc was processed using a model that supports named entity recognition, and check the `doc.ents` property manually if necessary.\n",
      "\n"
     ]
    },
    {
     "data": {
      "text/html": [
       "<span class=\"tex2jax_ignore\"><div class=\"entities\" style=\"line-height: 2.5; direction: ltr\">America China China Russia San Francisco China Johannesburg China Beijing China Hanoi China Saudi Arabia Iran Ukraine Palestine China US US San Francisco Ukraine China Ukraine Beijing the Peoples Republic of China China China China Chinas China China UK Hong Kong Hong Kong Russia China Ukraine Myanmar Myanmar Myanmar China Myanmar China Myanmar Myanmar Myanmar Myanmar Philippines China Philippines China Philippines Philippines Philippines Philippines China Laukkaing Township Myanmar Myanmar Laukkaing China Myanmar Myanmar Myanmar Kokang Myanmar Myanmar Laukkaing China China Myanmar Myanmar Laukkaing China China </div></span>"
      ],
      "text/plain": [
       "<IPython.core.display.HTML object>"
      ]
     },
     "metadata": {},
     "output_type": "display_data"
    }
   ],
   "source": [
    "# Replace the index with the desired document's index\n",
    "doc_to_analyze = final_News_df['Doc'][0]  # Replace 0 with the desired index\n",
    "\n",
    "# Extract only GPE entities\n",
    "gpe_entities = [ent.text for ent in doc_to_analyze.ents if ent.label_ == 'GPE']\n",
    "\n",
    "# Count the frequency of each GPE entity\n",
    "gpe_entity_counts = {}\n",
    "for entity in gpe_entities:\n",
    "    gpe_entity_counts[entity] = gpe_entity_counts.get(entity, 0) + 1\n",
    "\n",
    "# Print the frequency of each GPE entity\n",
    "for entity, count in gpe_entity_counts.items():\n",
    "    print(f'{entity}: {count}')\n",
    "\n",
    "# Visualize named entities of type GPE\n",
    "gpe_doc = spacy.tokens.Doc(doc_to_analyze.vocab, words=gpe_entities)\n",
    "displacy.render(gpe_doc, style='ent', jupyter=True)\n"
   ]
  },
  {
   "cell_type": "markdown",
   "id": "d05e639f",
   "metadata": {},
   "source": [
    "According to the statistics, it can be observed that several countries and regions were mentioned, with China and Myanmar being mentioned the most. This is related to the recent international situation."
   ]
  },
  {
   "cell_type": "code",
   "execution_count": null,
   "id": "ef0858d8",
   "metadata": {},
   "outputs": [],
   "source": []
  }
 ],
 "metadata": {
  "kernelspec": {
   "display_name": "Python 3 (ipykernel)",
   "language": "python",
   "name": "python3"
  },
  "language_info": {
   "codemirror_mode": {
    "name": "ipython",
    "version": 3
   },
   "file_extension": ".py",
   "mimetype": "text/x-python",
   "name": "python",
   "nbconvert_exporter": "python",
   "pygments_lexer": "ipython3",
   "version": "3.11.4"
  }
 },
 "nbformat": 4,
 "nbformat_minor": 5
}
